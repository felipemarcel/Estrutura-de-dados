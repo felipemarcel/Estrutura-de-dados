{
 "cells": [
  {
   "cell_type": "code",
   "execution_count": 413,
   "metadata": {},
   "outputs": [],
   "source": [
    "class HashNode:\n",
    "    def __init__(self, data=None, key=None, hash=None):\n",
    "        self.data = data # Informação a ser armazenada\n",
    "        self.key = key # Chave do nó\n",
    "        \n",
    "    def __str__(self):\n",
    "        return \"Key - {}, data - {}\".format(self.key, self.data)"
   ]
  },
  {
   "cell_type": "code",
   "execution_count": 414,
   "metadata": {},
   "outputs": [],
   "source": [
    "class Bucket:\n",
    "    def __init__(self, size, nodes=None):\n",
    "        self.nodes = []\n",
    "        i = 0\n",
    "        while i < size:\n",
    "            self.nodes.append(HashNode())\n",
    "            i += 1\n",
    "        \n",
    "    def length(self):\n",
    "        return len(self.nodes)\n",
    "            "
   ]
  },
  {
   "cell_type": "code",
   "execution_count": 415,
   "metadata": {},
   "outputs": [],
   "source": [
    "class ExtendibleHash:\n",
    "    def __init__(self, num_buckets, size_buckets, buckets=None):\n",
    "        self.buckets = []\n",
    "        i = 0\n",
    "        while i < num_buckets:\n",
    "            self.buckets.append(Bucket(size_buckets))\n",
    "            i += 1\n",
    "    \n",
    "    def hash_code(self, key):\n",
    "        return int(bin(key)[-1:])\n",
    "    \n",
    "    def insert(self, node):\n",
    "        idx_bucket = self.hash_code(node.key)\n",
    "        nodes = self.buckets[idx_bucket].nodes\n",
    "        i = 0\n",
    "        while i < len(nodes):\n",
    "            if nodes[i].key is None:\n",
    "                nodes[i] = node\n",
    "                print(\"Inserido no bucket - {} indice - {}\".format(idx_bucket, i))\n",
    "                return \n",
    "            i += 1\n",
    "        print(\"Hash Overflow. Bucket - {}\".format(idx_bucket))\n",
    "            \n",
    "    \n",
    "    def remove(self, key):\n",
    "        idx_bucket = self.hash_code(key)\n",
    "        nodes = self.buckets[idx_bucket].nodes\n",
    "        i = 0\n",
    "        while i < len(nodes):\n",
    "            if nodes[i].key == key:\n",
    "                nodes[i].key = None\n",
    "                nodes[i].data = None\n",
    "                return\n",
    "            i += 1\n",
    "        print(\"Elemento não existe no bucket.\")\n",
    "        \n",
    "    def search(self, key):\n",
    "        idx_bucket = self.hash_code(key)\n",
    "        nodes = self.buckets[idx_bucket].nodes\n",
    "        i = 0\n",
    "        while i < len(nodes):\n",
    "            if nodes[i].key == key:\n",
    "                return \"Encontrado no bucket - {} indice - {}\".format(idx_bucket, i)\n",
    "            i += 1\n",
    "        print(\"Elemento não existe no bucket.\")\n",
    "    \n",
    "    def free(self):\n",
    "        self.buckets = None\n",
    "            \n",
    "                \n",
    "    def __str__(self):\n",
    "        if self.buckets is not None:\n",
    "            str = \"\"\n",
    "            i = 0\n",
    "            while i < len(self.buckets):\n",
    "                str += \"\\nBucket - {} \\n\".format(i+1)\n",
    "                for node in self.buckets[i].nodes:\n",
    "                    str += \"Node - {}. \\n\".format(node)\n",
    "                i += 1\n",
    "            return str\n",
    "        else:\n",
    "            return \"Hash vazio.\"\n",
    "        "
   ]
  },
  {
   "cell_type": "code",
   "execution_count": 416,
   "metadata": {},
   "outputs": [],
   "source": [
    "# Criação do Hash e dos nós\n",
    "hash = ExtendibleHash(num_buckets=2, size_buckets=2)\n",
    "n1 = HashNode(20, 3)\n",
    "n2 = HashNode(30, 1)\n",
    "n3 = HashNode(1, 11)\n",
    "n4 = HashNode(192, 44)\n"
   ]
  },
  {
   "cell_type": "code",
   "execution_count": 417,
   "metadata": {},
   "outputs": [
    {
     "name": "stdout",
     "output_type": "stream",
     "text": [
      "Inserido no bucket - 1 indice - 0\n",
      "Inserido no bucket - 1 indice - 1\n",
      "Hash Overflow. Bucket - 1\n",
      "Inserido no bucket - 0 indice - 0\n"
     ]
    }
   ],
   "source": [
    "# Inserção dos nós no hash\n",
    "hash.insert(n1) \n",
    "hash.insert(n2)\n",
    "hash.insert(n3)\n",
    "hash.insert(n4)"
   ]
  },
  {
   "cell_type": "code",
   "execution_count": 418,
   "metadata": {},
   "outputs": [
    {
     "name": "stdout",
     "output_type": "stream",
     "text": [
      "Elemento não existe no bucket.\n"
     ]
    }
   ],
   "source": [
    "# Buscando nó no hash que não foi inserido e portanto não existe\n",
    "hash.search(n3.key)"
   ]
  },
  {
   "cell_type": "code",
   "execution_count": 419,
   "metadata": {},
   "outputs": [
    {
     "data": {
      "text/plain": [
       "'Encontrado no bucket - 0 indice - 0'"
      ]
     },
     "execution_count": 419,
     "metadata": {},
     "output_type": "execute_result"
    }
   ],
   "source": [
    "# Buscando nó no hash \n",
    "hash.search(n4.key)"
   ]
  },
  {
   "cell_type": "code",
   "execution_count": 420,
   "metadata": {},
   "outputs": [
    {
     "name": "stdout",
     "output_type": "stream",
     "text": [
      "\n",
      "Bucket - 1 \n",
      "Node - Key - 44, data - 192. \n",
      "Node - Key - None, data - None. \n",
      "\n",
      "Bucket - 2 \n",
      "Node - Key - 3, data - 20. \n",
      "Node - Key - 1, data - 30. \n",
      "\n"
     ]
    }
   ],
   "source": [
    "print(hash)"
   ]
  },
  {
   "cell_type": "code",
   "execution_count": 421,
   "metadata": {},
   "outputs": [
    {
     "name": "stdout",
     "output_type": "stream",
     "text": [
      "Elemento não existe no bucket.\n"
     ]
    }
   ],
   "source": [
    "# Removendo elemento não inserido no hash\n",
    "hash.remove(n3.key)"
   ]
  },
  {
   "cell_type": "code",
   "execution_count": 422,
   "metadata": {},
   "outputs": [],
   "source": [
    "# Removendo elemento existente\n",
    "hash.remove(n4.key)"
   ]
  },
  {
   "cell_type": "code",
   "execution_count": 423,
   "metadata": {},
   "outputs": [
    {
     "name": "stdout",
     "output_type": "stream",
     "text": [
      "\n",
      "Bucket - 1 \n",
      "Node - Key - None, data - None. \n",
      "Node - Key - None, data - None. \n",
      "\n",
      "Bucket - 2 \n",
      "Node - Key - 3, data - 20. \n",
      "Node - Key - 1, data - 30. \n",
      "\n"
     ]
    }
   ],
   "source": [
    "print(hash)"
   ]
  },
  {
   "cell_type": "code",
   "execution_count": 424,
   "metadata": {},
   "outputs": [],
   "source": [
    "# Liberando espaço para o hash\n",
    "hash.free()"
   ]
  },
  {
   "cell_type": "code",
   "execution_count": 425,
   "metadata": {},
   "outputs": [
    {
     "name": "stdout",
     "output_type": "stream",
     "text": [
      "Hash vazio.\n"
     ]
    }
   ],
   "source": [
    "print(hash)"
   ]
  },
  {
   "cell_type": "code",
   "execution_count": null,
   "metadata": {},
   "outputs": [],
   "source": []
  }
 ],
 "metadata": {
  "kernelspec": {
   "display_name": "Python 3",
   "language": "python",
   "name": "python3"
  },
  "language_info": {
   "codemirror_mode": {
    "name": "ipython",
    "version": 3
   },
   "file_extension": ".py",
   "mimetype": "text/x-python",
   "name": "python",
   "nbconvert_exporter": "python",
   "pygments_lexer": "ipython3",
   "version": "3.7.3"
  }
 },
 "nbformat": 4,
 "nbformat_minor": 2
}
