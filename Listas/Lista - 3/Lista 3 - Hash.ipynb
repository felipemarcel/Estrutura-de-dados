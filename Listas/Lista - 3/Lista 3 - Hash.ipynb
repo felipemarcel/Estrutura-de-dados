{
 "cells": [
  {
   "cell_type": "code",
   "execution_count": 43,
   "metadata": {},
   "outputs": [],
   "source": [
    "class Node: \n",
    "    def __init__(self,key=None, value=None):\n",
    "        self.key = key\n",
    "        self.value = value\n",
    "        \n",
    "    def __str__(self):\n",
    "        return \"{}\".format(self.key)"
   ]
  },
  {
   "cell_type": "code",
   "execution_count": 88,
   "metadata": {},
   "outputs": [],
   "source": [
    "class Hash:\n",
    "    \n",
    "    def __init__(self, table=[Node()]*2):\n",
    "        self.table = table\n",
    "        \n",
    "    def __str__(self):\n",
    "        str = \"\"\n",
    "        for i in self.table:\n",
    "            str += \" {} \".format(i)\n",
    "        return str\n",
    "        \n",
    "    def hash_code(self, key, i) :\n",
    "        return (key+i) % len(self.table)\n",
    "    \n",
    "    def insert(self, node):\n",
    "        i = 0\n",
    "        while i < len(self.table):\n",
    "            j = self.hash_code(node.key, i) \n",
    "            if self.table[j].key is None or self.table[j].key is not -1:\n",
    "                print(\"Inserindo chave - {} no indice - {}\".format(node.key,j))\n",
    "                self.table[j] = node\n",
    "                return j\n",
    "            else:\n",
    "                i += 1\n",
    "        print(\"Hash Overflow\")\n",
    "            \n",
    "                \n",
    "    def search(self, key):\n",
    "        i = 0\n",
    "        while i < len(self.table):\n",
    "            j = self.hash_code(key, i)\n",
    "            if self.table[j] is not None and self.table[j].key == key and self.table[j].key != -1:\n",
    "                return j\n",
    "            i += 1\n",
    "    \n",
    "    def remove(self, key):\n",
    "        index = self.search(key)\n",
    "        if index is not None:\n",
    "            self.table[index] = Node(-1, None)\n",
    "        \n",
    "    \n",
    "    def free(self):\n",
    "        i = 0\n",
    "        tble = self.table\n",
    "        while i < len(tble):\n",
    "            tble[i] = None\n",
    "            i += 1\n",
    "            \n",
    "        print(tble)\n",
    "        \n",
    "            \n",
    "        \n",
    "    "
   ]
  },
  {
   "cell_type": "code",
   "execution_count": 89,
   "metadata": {},
   "outputs": [],
   "source": [
    "# Criando hash e os nós Node(chave, valor)\n",
    "hash = Hash()\n",
    "node = Node(3,3)\n",
    "node1 = Node(4,2)\n",
    "node3 = Node(1,2)"
   ]
  },
  {
   "cell_type": "code",
   "execution_count": 90,
   "metadata": {},
   "outputs": [
    {
     "name": "stdout",
     "output_type": "stream",
     "text": [
      "Inserindo chave - 3 no indice - 1\n",
      "Inserindo chave - 4 no indice - 0\n",
      "Inserindo chave - 1 no indice - 1\n"
     ]
    },
    {
     "data": {
      "text/plain": [
       "1"
      ]
     },
     "execution_count": 90,
     "metadata": {},
     "output_type": "execute_result"
    }
   ],
   "source": [
    "# Inserindo valores\n",
    "hash.insert(node)\n",
    "hash.insert(node1)\n",
    "hash.insert(node3)"
   ]
  },
  {
   "cell_type": "code",
   "execution_count": 91,
   "metadata": {},
   "outputs": [
    {
     "name": "stdout",
     "output_type": "stream",
     "text": [
      " 4  1 \n"
     ]
    }
   ],
   "source": [
    "print(hash)"
   ]
  },
  {
   "cell_type": "code",
   "execution_count": 82,
   "metadata": {},
   "outputs": [
    {
     "name": "stdout",
     "output_type": "stream",
     "text": [
      "0\n"
     ]
    }
   ],
   "source": [
    "# Busca elemento que existe\n",
    "print(hash.search(4))"
   ]
  },
  {
   "cell_type": "code",
   "execution_count": 83,
   "metadata": {},
   "outputs": [
    {
     "name": "stdout",
     "output_type": "stream",
     "text": [
      "None\n"
     ]
    }
   ],
   "source": [
    "# Busca elemento que não existe\n",
    "print(hash.search(2))"
   ]
  },
  {
   "cell_type": "code",
   "execution_count": 84,
   "metadata": {},
   "outputs": [
    {
     "name": "stdout",
     "output_type": "stream",
     "text": [
      " 4  -1 \n"
     ]
    }
   ],
   "source": [
    "# Remoção de um elemeento\n",
    "hash.remove(3)\n",
    "print(hash)"
   ]
  },
  {
   "cell_type": "code",
   "execution_count": 86,
   "metadata": {},
   "outputs": [
    {
     "name": "stdout",
     "output_type": "stream",
     "text": [
      "Hash Overflow\n",
      " 4  -1 \n"
     ]
    }
   ],
   "source": [
    "# Criando novo nó e inserindo no lugar do nó removido\n",
    "node3 = Node(1,3)\n",
    "hash.insert(node3)\n",
    "print(hash)"
   ]
  },
  {
   "cell_type": "code",
   "execution_count": 87,
   "metadata": {},
   "outputs": [
    {
     "name": "stdout",
     "output_type": "stream",
     "text": [
      "[None, None]\n"
     ]
    }
   ],
   "source": [
    "hash.free()"
   ]
  },
  {
   "cell_type": "code",
   "execution_count": null,
   "metadata": {},
   "outputs": [],
   "source": []
  }
 ],
 "metadata": {
  "kernelspec": {
   "display_name": "Python 3",
   "language": "python",
   "name": "python3"
  },
  "language_info": {
   "codemirror_mode": {
    "name": "ipython",
    "version": 3
   },
   "file_extension": ".py",
   "mimetype": "text/x-python",
   "name": "python",
   "nbconvert_exporter": "python",
   "pygments_lexer": "ipython3",
   "version": "3.7.3"
  }
 },
 "nbformat": 4,
 "nbformat_minor": 2
}
