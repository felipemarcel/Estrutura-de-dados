{
 "cells": [
  {
   "cell_type": "code",
   "execution_count": null,
   "metadata": {},
   "outputs": [],
   "source": [
    "class Node: \n",
    "    def __init__(self,key=None, value=None):\n",
    "        self.key = key\n",
    "        self.value = value\n",
    "    "
   ]
  },
  {
   "cell_type": "code",
   "execution_count": 12,
   "metadata": {},
   "outputs": [],
   "source": [
    "class Hash:\n",
    "    \n",
    "    def __init__(self, table=[None]*10):\n",
    "        self.table = table\n",
    "        \n",
    "    def hash_code(self, key):\n",
    "        return key % 10\n",
    "    \n",
    "    def insert(self, value, key):\n",
    "        index = self.hash_code(key)\n",
    "        i = index\n",
    "        while self.table[i] is not None and self.table[i] is not -1:\n",
    "            i += 1\n",
    "            i %= 10\n",
    "            \n",
    "        self.table[i] = value\n",
    "        print(self.table)\n",
    "        \n",
    "            \n",
    "        \n",
    "    "
   ]
  },
  {
   "cell_type": "code",
   "execution_count": 20,
   "metadata": {},
   "outputs": [
    {
     "name": "stdout",
     "output_type": "stream",
     "text": [
      "[11, 10, 11, 10, 11, 11, 11, 11, None, None]\n"
     ]
    }
   ],
   "source": [
    "hash = Hash()\n",
    "hash.insert(11, 1)"
   ]
  },
  {
   "cell_type": "code",
   "execution_count": null,
   "metadata": {},
   "outputs": [],
   "source": []
  },
  {
   "cell_type": "code",
   "execution_count": null,
   "metadata": {},
   "outputs": [],
   "source": []
  }
 ],
 "metadata": {
  "kernelspec": {
   "display_name": "Python 3",
   "language": "python",
   "name": "python3"
  },
  "language_info": {
   "codemirror_mode": {
    "name": "ipython",
    "version": 3
   },
   "file_extension": ".py",
   "mimetype": "text/x-python",
   "name": "python",
   "nbconvert_exporter": "python",
   "pygments_lexer": "ipython3",
   "version": "3.7.3"
  }
 },
 "nbformat": 4,
 "nbformat_minor": 2
}
