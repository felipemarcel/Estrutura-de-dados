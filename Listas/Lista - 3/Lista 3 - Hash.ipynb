{
 "cells": [
  {
   "cell_type": "code",
   "execution_count": 116,
   "metadata": {},
   "outputs": [],
   "source": [
    "class Node: \n",
    "    def __init__(self,key=None, value=None):\n",
    "        self.key = key\n",
    "        self.value = value\n",
    "        \n",
    "    def __str__(self):\n",
    "        return \"{}\".format(self.key)"
   ]
  },
  {
   "cell_type": "code",
   "execution_count": 163,
   "metadata": {},
   "outputs": [],
   "source": [
    "class Hash:\n",
    "    \n",
    "    def __init__(self, table=[Node()]*2):\n",
    "        self.table = table\n",
    "        \n",
    "    def __str__(self):\n",
    "        str = \"\"\n",
    "        for i in self.table:\n",
    "            str += \" {} \".format(i)\n",
    "        return str\n",
    "        \n",
    "    def hash_code(self, key, i) :\n",
    "        return (key+i) % len(self.table)\n",
    "    \n",
    "    def insert(self, node):\n",
    "        i = 0\n",
    "        while i < len(self.table):\n",
    "            j = self.hash_code(node.key, i) \n",
    "            print(\"Inserindo chave - {} no indice - {}\".format(node.key,j))\n",
    "            if self.table[j] is not None:\n",
    "                self.table[j] = node\n",
    "                return i\n",
    "            else:\n",
    "                i += 1\n",
    "            print(\"Hash Overflow\")\n",
    "            \n",
    "                \n",
    "    def search(self, key):\n",
    "        i = 0\n",
    "        while i < len(self.table):\n",
    "            j = self.hash_code(key, i)\n",
    "            if self.table[j] is not None and self.table[j].key == key:\n",
    "                return j\n",
    "            i += 1\n",
    "    \n",
    "    def remove(self):\n",
    "        pass\n",
    "    \n",
    "    def free(self):\n",
    "        i = 0\n",
    "        tble = self.table\n",
    "        while i < len(tble):\n",
    "            tble[i] = None\n",
    "            i += 1\n",
    "            \n",
    "        print(tble)\n",
    "        \n",
    "            \n",
    "        \n",
    "    "
   ]
  },
  {
   "cell_type": "code",
   "execution_count": 168,
   "metadata": {},
   "outputs": [
    {
     "name": "stdout",
     "output_type": "stream",
     "text": [
      "Inserindo chave - 3 no indice - 1\n",
      "Inserindo chave - 4 no indice - 0\n",
      " 4  3 \n",
      "None\n"
     ]
    }
   ],
   "source": [
    "hash = Hash()\n",
    "node = Node(3,3)\n",
    "node1 = Node(4,2)\n",
    "hash.insert(node)\n",
    "hash.insert(node1)\n",
    "print(hash)\n",
    "print(hash.search(2))\n"
   ]
  },
  {
   "cell_type": "code",
   "execution_count": 104,
   "metadata": {},
   "outputs": [
    {
     "name": "stdout",
     "output_type": "stream",
     "text": [
      "[None, None]\n"
     ]
    }
   ],
   "source": [
    "hash.free()"
   ]
  },
  {
   "cell_type": "code",
   "execution_count": null,
   "metadata": {},
   "outputs": [],
   "source": []
  },
  {
   "cell_type": "code",
   "execution_count": null,
   "metadata": {},
   "outputs": [],
   "source": []
  },
  {
   "cell_type": "code",
   "execution_count": null,
   "metadata": {},
   "outputs": [],
   "source": []
  }
 ],
 "metadata": {
  "kernelspec": {
   "display_name": "Python 3",
   "language": "python",
   "name": "python3"
  },
  "language_info": {
   "codemirror_mode": {
    "name": "ipython",
    "version": 3
   },
   "file_extension": ".py",
   "mimetype": "text/x-python",
   "name": "python",
   "nbconvert_exporter": "python",
   "pygments_lexer": "ipython3",
   "version": "3.7.3"
  }
 },
 "nbformat": 4,
 "nbformat_minor": 2
}
