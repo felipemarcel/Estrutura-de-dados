{
 "cells": [
  {
   "cell_type": "code",
   "execution_count": null,
   "metadata": {},
   "outputs": [],
   "source": [
    "class Node:\n",
    "    def __init__(self, value=None, left=None, right=None, parent=None):\n",
    "        self.value = value\n",
    "        self.left = left\n",
    "        self.right = right\n",
    "        self.parent = parent"
   ]
  },
  {
   "cell_type": "code",
   "execution_count": null,
   "metadata": {},
   "outputs": [],
   "source": [
    "class AVLTree:\n",
    "    def __init__(self, root=None):\n",
    "        self.root = root\n",
    "    \n",
    "    def left_rotate(self, node):\n",
    "        aux_node = node.right\n",
    "        node.right = aux_node.left\n",
    "        aux_node.left.parent = node\n",
    "        aux_node.parent = node.parent\n",
    "        \n",
    "        if aux_node.parent is not None:\n",
    "            self.root = aux_node\n",
    "        elif node == node.parent.left:\n",
    "            node.parent.left = aux_node\n",
    "        else:\n",
    "            node.parent.right = aux_node\n",
    "        aux_node.left = node\n",
    "        node.parent = aux_node\n",
    "        \n",
    "    def right_rotate(self, node):\n",
    "        aux_node = node.left\n",
    "        node.left = aux_node.right\n",
    "        aux_node.right.parent = node\n",
    "        aux_node.parent = node.parent\n",
    "        \n",
    "        if aux_node.parent is not None:\n",
    "            self.root = aux_node\n",
    "        elif node == node.parent.right:\n",
    "            node.parent.right = aux_node\n",
    "        else:\n",
    "            node.parent.left = aux_node\n",
    "        aux_node.right = node\n",
    "        node.parent = aux_node\n",
    "        \n",
    "    \n",
    "    def insert(self, node):\n",
    "        y = None\n",
    "        x = self.root\n",
    "        while x is not None:\n",
    "            y = x\n",
    "            if node.value < x.value:\n",
    "                x = x.left\n",
    "            else:\n",
    "                x = x.right\n",
    "        node.parent = y\n",
    "        if y is None:\n",
    "            self.root = node\n",
    "        elif node.value < y.value:\n",
    "            y.left = node\n",
    "        else:\n",
    "            y.right = node\n",
    "        \n",
    "        node.left = None\n",
    "        node.right = None\n",
    "        node.color = 'r'\n",
    "        \n",
    "            \n",
    "            "
   ]
  }
 ],
 "metadata": {
  "kernelspec": {
   "display_name": "Python 3",
   "language": "python",
   "name": "python3"
  },
  "language_info": {
   "codemirror_mode": {
    "name": "ipython",
    "version": 3
   },
   "file_extension": ".py",
   "mimetype": "text/x-python",
   "name": "python",
   "nbconvert_exporter": "python",
   "pygments_lexer": "ipython3",
   "version": "3.7.3"
  }
 },
 "nbformat": 4,
 "nbformat_minor": 2
}
