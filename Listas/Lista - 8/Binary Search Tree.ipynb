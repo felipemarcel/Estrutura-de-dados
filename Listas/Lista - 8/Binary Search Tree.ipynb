{
 "cells": [
  {
   "cell_type": "code",
   "execution_count": 92,
   "metadata": {},
   "outputs": [],
   "source": [
    "class Node:\n",
    "    def __init__(self, value=None, left=None, right=None, parent=None):\n",
    "        self.value = value\n",
    "        self.left = left\n",
    "        self.right = right\n",
    "        self.parent = parent\n",
    "    \n",
    "    def __str__(self):\n",
    "        return \"{} -> {}\".format(self.parent, self.value)"
   ]
  },
  {
   "cell_type": "code",
   "execution_count": 98,
   "metadata": {},
   "outputs": [],
   "source": [
    "class BSTree:\n",
    "    def __init__(self, root=None):\n",
    "        self.root = root\n",
    "    \n",
    "    def in_order(self, node):\n",
    "        if node is not None:\n",
    "            self.in_order(node.left)\n",
    "            print(node.value)\n",
    "            self.in_order(node.right)\n",
    "            \n",
    "    def pre_order(self, node):\n",
    "        print(node.value)\n",
    "        if node.left is not None:\n",
    "            self.pre_order(node.left)\n",
    "        if node.right is not None:\n",
    "            self.pre_order(node.right)\n",
    "            \n",
    "    def pos_order(self, node):\n",
    "        if node.left is not None:\n",
    "            self.pos_order(node.left)\n",
    "        if node.right is not None:\n",
    "            self.pos_order(node.right)\n",
    "        print(node.value)\n",
    "\n",
    "            \n",
    "    def search(self, node, value):\n",
    "        if node is None or value == node.value:\n",
    "            return node\n",
    "        # (false, true)[condition]\n",
    "        child = (node.right, node.left)[value < node.value]\n",
    "        return self.search(child, value)\n",
    "    \n",
    "    def minimun(self, node):\n",
    "        while node.left is not None:\n",
    "            node = node.left\n",
    "        return node\n",
    "    \n",
    "    def maximum(self, node):\n",
    "        while node.right is not None:\n",
    "            node.right = node\n",
    "        return node\n",
    "    \n",
    "    def sucessor(self, node):\n",
    "        if node.right is not None:\n",
    "            return self.minimum(node.right)\n",
    "        y = node.parent\n",
    "        while y is not None and node == y.right:\n",
    "            node = y\n",
    "            y = y.parent\n",
    "        return y\n",
    "            \n",
    "    def insert(self, node):\n",
    "        y = None\n",
    "        x = self.root\n",
    "        while x is not None:\n",
    "            y = x\n",
    "            # (false, true)[condition]\n",
    "            x = (x.right, x.left)[node.value < x.value]\n",
    "            \n",
    "        node.parent = y\n",
    "        if y is None:\n",
    "            self.root = node\n",
    "        else:\n",
    "            if node.value < y.value:\n",
    "                y.left = node\n",
    "            else:\n",
    "                y.right = node\n",
    "                \n",
    "    def delete(self, node):\n",
    "        # (false, true)[condition]\n",
    "        aux_node = (self.sucessor(node), node)[node.left is None or node.right is None]\n",
    "        node = (aux_node.right, aux_node.left)[aux_node.left is not None]\n",
    "        print(node)\n",
    "        print(aux_node)\n",
    "        \n",
    "        if node is not None:\n",
    "            node.parent = aux_node.parent\n",
    "        \n",
    "        if aux_node.parent is None:\n",
    "            self.root = node\n",
    "        else:\n",
    "            if aux_node == aux_node.parent.left:\n",
    "                aux_node.parent.left = node\n",
    "            else:\n",
    "                aux_node.parent.right = node\n",
    "        if aux_node is not node:\n",
    "            print(node)\n",
    "            node.value = aux_node.value\n",
    "        return aux_node"
   ]
  },
  {
   "cell_type": "code",
   "execution_count": 99,
   "metadata": {},
   "outputs": [],
   "source": [
    "#Criação BSTree\n",
    "bst = BSTree()\n"
   ]
  },
  {
   "cell_type": "code",
   "execution_count": 100,
   "metadata": {},
   "outputs": [],
   "source": [
    "# Inserindo elementos na BSTree\n",
    "bst.insert(Node(2))\n",
    "bst.insert(Node(5))\n",
    "bst.insert(Node(8))\n",
    "bst.insert(Node(7))\n",
    "bst.insert(Node(3))\n"
   ]
  },
  {
   "cell_type": "code",
   "execution_count": 101,
   "metadata": {},
   "outputs": [
    {
     "name": "stdout",
     "output_type": "stream",
     "text": [
      "None -> 2 -> 5 -> 3\n"
     ]
    }
   ],
   "source": [
    "#Busca de elemento em BSTree\n",
    "print(bst.search(bst.root, 3))"
   ]
  },
  {
   "cell_type": "code",
   "execution_count": 102,
   "metadata": {},
   "outputs": [
    {
     "name": "stdout",
     "output_type": "stream",
     "text": [
      "None\n",
      "None -> 3\n",
      "None\n"
     ]
    },
    {
     "ename": "AttributeError",
     "evalue": "'NoneType' object has no attribute 'value'",
     "output_type": "error",
     "traceback": [
      "\u001b[1;31m---------------------------------------------------------------------------\u001b[0m",
      "\u001b[1;31mAttributeError\u001b[0m                            Traceback (most recent call last)",
      "\u001b[1;32m<ipython-input-102-98a597e6ce23>\u001b[0m in \u001b[0;36m<module>\u001b[1;34m\u001b[0m\n\u001b[0;32m      1\u001b[0m \u001b[1;31m#Removendo elemento da BSTree\u001b[0m\u001b[1;33m\u001b[0m\u001b[1;33m\u001b[0m\u001b[1;33m\u001b[0m\u001b[0m\n\u001b[1;32m----> 2\u001b[1;33m \u001b[0mbst\u001b[0m\u001b[1;33m.\u001b[0m\u001b[0mdelete\u001b[0m\u001b[1;33m(\u001b[0m\u001b[0mNode\u001b[0m\u001b[1;33m(\u001b[0m\u001b[1;36m3\u001b[0m\u001b[1;33m)\u001b[0m\u001b[1;33m)\u001b[0m\u001b[1;33m\u001b[0m\u001b[1;33m\u001b[0m\u001b[0m\n\u001b[0m",
      "\u001b[1;32m<ipython-input-98-2a709fe4058a>\u001b[0m in \u001b[0;36mdelete\u001b[1;34m(self, node)\u001b[0m\n\u001b[0;32m     86\u001b[0m         \u001b[1;32mif\u001b[0m \u001b[0maux_node\u001b[0m \u001b[1;32mis\u001b[0m \u001b[1;32mnot\u001b[0m \u001b[0mnode\u001b[0m\u001b[1;33m:\u001b[0m\u001b[1;33m\u001b[0m\u001b[1;33m\u001b[0m\u001b[0m\n\u001b[0;32m     87\u001b[0m             \u001b[0mprint\u001b[0m\u001b[1;33m(\u001b[0m\u001b[0mnode\u001b[0m\u001b[1;33m)\u001b[0m\u001b[1;33m\u001b[0m\u001b[1;33m\u001b[0m\u001b[0m\n\u001b[1;32m---> 88\u001b[1;33m             \u001b[0mnode\u001b[0m\u001b[1;33m.\u001b[0m\u001b[0mvalue\u001b[0m \u001b[1;33m=\u001b[0m \u001b[0maux_node\u001b[0m\u001b[1;33m.\u001b[0m\u001b[0mvalue\u001b[0m\u001b[1;33m\u001b[0m\u001b[1;33m\u001b[0m\u001b[0m\n\u001b[0m\u001b[0;32m     89\u001b[0m         \u001b[1;32mreturn\u001b[0m \u001b[0maux_node\u001b[0m\u001b[1;33m\u001b[0m\u001b[1;33m\u001b[0m\u001b[0m\n",
      "\u001b[1;31mAttributeError\u001b[0m: 'NoneType' object has no attribute 'value'"
     ]
    }
   ],
   "source": [
    "#Removendo elemento da BSTree\n",
    "bst.delete(Node(3))"
   ]
  },
  {
   "cell_type": "code",
   "execution_count": null,
   "metadata": {},
   "outputs": [],
   "source": [
    "bst.insert(Node(3))"
   ]
  },
  {
   "cell_type": "code",
   "execution_count": 75,
   "metadata": {},
   "outputs": [
    {
     "name": "stdout",
     "output_type": "stream",
     "text": [
      "2\n",
      "5\n",
      "3\n",
      "8\n",
      "7\n"
     ]
    }
   ],
   "source": [
    "#Percorrendo em pre order\n",
    "bst.pre_order(bst.root)"
   ]
  },
  {
   "cell_type": "code",
   "execution_count": 76,
   "metadata": {},
   "outputs": [
    {
     "name": "stdout",
     "output_type": "stream",
     "text": [
      "3\n",
      "7\n",
      "8\n",
      "5\n",
      "2\n"
     ]
    }
   ],
   "source": [
    "#Percorrendo em pos order\n",
    "bst.pos_order(bst.root)"
   ]
  },
  {
   "cell_type": "code",
   "execution_count": 77,
   "metadata": {},
   "outputs": [
    {
     "name": "stdout",
     "output_type": "stream",
     "text": [
      "2\n",
      "3\n",
      "5\n",
      "7\n",
      "8\n"
     ]
    }
   ],
   "source": [
    "#Percorrendo in order\n",
    "bst.in_order(bst.root)"
   ]
  },
  {
   "cell_type": "code",
   "execution_count": null,
   "metadata": {},
   "outputs": [],
   "source": []
  }
 ],
 "metadata": {
  "kernelspec": {
   "display_name": "Python 3",
   "language": "python",
   "name": "python3"
  },
  "language_info": {
   "codemirror_mode": {
    "name": "ipython",
    "version": 3
   },
   "file_extension": ".py",
   "mimetype": "text/x-python",
   "name": "python",
   "nbconvert_exporter": "python",
   "pygments_lexer": "ipython3",
   "version": "3.7.3"
  }
 },
 "nbformat": 4,
 "nbformat_minor": 2
}
