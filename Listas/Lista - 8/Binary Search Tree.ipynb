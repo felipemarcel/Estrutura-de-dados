{
 "cells": [
  {
   "cell_type": "code",
   "execution_count": 111,
   "metadata": {},
   "outputs": [],
   "source": [
    "class Node:\n",
    "    def __init__(self, value=None, left=None, right=None, parent=None):\n",
    "        self.value = value\n",
    "        self.left = left\n",
    "        self.right = right\n",
    "        self.parent = parent\n",
    "    \n",
    "    def __str__(self):\n",
    "        return \"{}\".format(self.value)"
   ]
  },
  {
   "cell_type": "code",
   "execution_count": 136,
   "metadata": {},
   "outputs": [],
   "source": [
    "class BSTree:\n",
    "    def __init__(self, root=None):\n",
    "        self.root = root\n",
    "    \n",
    "    def in_order(self, node):\n",
    "        if node is not None:\n",
    "            self.in_order(node.left)\n",
    "            print(node.value)\n",
    "            self.in_order(node.right)\n",
    "            \n",
    "    def pre_order(self, node):\n",
    "        print(node.value)\n",
    "        if node.left is not None:\n",
    "            self.pre_order(node.left)\n",
    "        if node.right is not None:\n",
    "            self.pre_order(node.right)\n",
    "            \n",
    "    def pos_order(self, node):\n",
    "        if node.left is not None:\n",
    "            self.pos_order(node.left)\n",
    "        if node.right is not None:\n",
    "            self.pos_order(node.right)\n",
    "        print(node.value)\n",
    "\n",
    "            \n",
    "    def search(self, node, value):\n",
    "        if node is None or value == node.value:\n",
    "            return node\n",
    "        # (false, true)[condition]\n",
    "        child = (node.right, node.left)[value < node.value]\n",
    "        return self.search(child, value)\n",
    "    \n",
    "    def minimun(self, node):\n",
    "        while node.left is not None:\n",
    "            node = node.left\n",
    "        return node\n",
    "    \n",
    "    def maximum(self, node):\n",
    "        while node.right is not None:\n",
    "            node.right = node\n",
    "        return node\n",
    "    \n",
    "    def sucessor(self, node):\n",
    "        if node.right is not None:\n",
    "            return self.minimum(node.right)\n",
    "        y = node.parent\n",
    "        while y is not None and node == y.right:\n",
    "            node = y\n",
    "            y = y.parent\n",
    "        return y\n",
    "            \n",
    "    def insert(self, node):\n",
    "        y = None\n",
    "        x = self.root\n",
    "        while x is not None:\n",
    "            y = x\n",
    "            # (false, true)[condition]\n",
    "            x = (x.right, x.left)[node.value < x.value]\n",
    "            \n",
    "        node.parent = y\n",
    "        if y is None:\n",
    "            self.root = node\n",
    "        else:\n",
    "            if node.value < y.value:\n",
    "                y.left = node\n",
    "            else:\n",
    "                y.right = node\n",
    "                \n",
    "    def delete(self, node):\n",
    "        if node.left is None or node.right is None:\n",
    "            y = node\n",
    "        else:\n",
    "            y = self.sucessor(node)\n",
    "            \n",
    "        if y.left is not None:\n",
    "            x = y.left\n",
    "        else:\n",
    "            x = y.right\n",
    "            \n",
    "        if x is not None:\n",
    "            x.parent = y.parent\n",
    "        \n",
    "        if y.parent is None:\n",
    "            self.root = x\n",
    "        else:\n",
    "            if y == y.parent.left:\n",
    "                y.parent.left = x\n",
    "            else:\n",
    "                y.parent.right = x\n",
    "                \n",
    "        if y is not node:\n",
    "            node.value = y.value\n",
    "        return y\n",
    "    "
   ]
  },
  {
   "cell_type": "code",
   "execution_count": 137,
   "metadata": {},
   "outputs": [],
   "source": [
    "#Criação BSTree\n",
    "bst = BSTree()\n"
   ]
  },
  {
   "cell_type": "code",
   "execution_count": 138,
   "metadata": {},
   "outputs": [],
   "source": [
    "# Inserindo elementos na BSTree\n",
    "n1 = Node(2)\n",
    "n2 = Node(5)\n",
    "n3 = Node(8)\n",
    "n4 = Node(3)\n",
    "n5 = Node(7)\n",
    "bst.insert(n1)\n",
    "bst.insert(n2)\n",
    "bst.insert(n3)\n",
    "bst.insert(n4)\n",
    "bst.insert(n5)\n"
   ]
  },
  {
   "cell_type": "code",
   "execution_count": 139,
   "metadata": {},
   "outputs": [
    {
     "name": "stdout",
     "output_type": "stream",
     "text": [
      "3\n",
      "None\n"
     ]
    }
   ],
   "source": [
    "#Busca de elemento em BSTree\n",
    "print(bst.search(bst.root, 3))\n",
    "print(bst.search(bst.root, 100))"
   ]
  },
  {
   "cell_type": "code",
   "execution_count": 140,
   "metadata": {},
   "outputs": [
    {
     "name": "stdout",
     "output_type": "stream",
     "text": [
      "2\n",
      "3\n",
      "5\n",
      "7\n",
      "8\n",
      "-------\n",
      "3\n",
      "-------\n",
      "2\n",
      "5\n",
      "7\n",
      "8\n"
     ]
    }
   ],
   "source": [
    "#Removendo elemento da BSTree. 1. Mostrando arvore antes da remoção. 2. Removendo elemento. 3. Monstrando arvore após\n",
    "#remoção\n",
    "bst.in_order(bst.root)\n",
    "print(\"-------\")\n",
    "print(bst.delete(n4))\n",
    "print(\"-------\")\n",
    "bst.in_order(bst.root)"
   ]
  },
  {
   "cell_type": "code",
   "execution_count": 144,
   "metadata": {},
   "outputs": [
    {
     "name": "stdout",
     "output_type": "stream",
     "text": [
      "2\n",
      "5\n",
      "3\n",
      "8\n",
      "7\n"
     ]
    }
   ],
   "source": [
    "#Percorrendo em pre order. 1. Inserindo no com valor 3 novamente\n",
    "bst.insert(n4)\n",
    "bst.pre_order(bst.root)"
   ]
  },
  {
   "cell_type": "code",
   "execution_count": 145,
   "metadata": {},
   "outputs": [
    {
     "name": "stdout",
     "output_type": "stream",
     "text": [
      "3\n",
      "7\n",
      "8\n",
      "5\n",
      "2\n"
     ]
    }
   ],
   "source": [
    "#Percorrendo em pos order\n",
    "bst.pos_order(bst.root)"
   ]
  },
  {
   "cell_type": "code",
   "execution_count": 146,
   "metadata": {},
   "outputs": [
    {
     "name": "stdout",
     "output_type": "stream",
     "text": [
      "2\n",
      "3\n",
      "5\n",
      "7\n",
      "8\n"
     ]
    }
   ],
   "source": [
    "#Percorrendo in order\n",
    "bst.in_order(bst.root)"
   ]
  },
  {
   "cell_type": "code",
   "execution_count": null,
   "metadata": {},
   "outputs": [],
   "source": []
  },
  {
   "cell_type": "code",
   "execution_count": null,
   "metadata": {},
   "outputs": [],
   "source": []
  }
 ],
 "metadata": {
  "kernelspec": {
   "display_name": "Python 3",
   "language": "python",
   "name": "python3"
  },
  "language_info": {
   "codemirror_mode": {
    "name": "ipython",
    "version": 3
   },
   "file_extension": ".py",
   "mimetype": "text/x-python",
   "name": "python",
   "nbconvert_exporter": "python",
   "pygments_lexer": "ipython3",
   "version": "3.7.3"
  }
 },
 "nbformat": 4,
 "nbformat_minor": 2
}
