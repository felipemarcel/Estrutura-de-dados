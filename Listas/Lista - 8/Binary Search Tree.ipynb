{
 "cells": [
  {
   "cell_type": "code",
   "execution_count": null,
   "metadata": {},
   "outputs": [],
   "source": [
    "class Node:\n",
    "    def __init__(self, value=None, left=None, right=None, parent=None):\n",
    "        self.value = value\n",
    "        self.left = left\n",
    "        self.right = right\n",
    "        self.parent = parent"
   ]
  },
  {
   "cell_type": "code",
   "execution_count": null,
   "metadata": {},
   "outputs": [],
   "source": [
    "class BSTree:\n",
    "    def __init__(self, root=None):\n",
    "        self.root = root\n",
    "    \n",
    "    def in_order(self, node):\n",
    "        if node is not None:\n",
    "            self.in_order(node.left)\n",
    "            print(node.value)\n",
    "            self.in_order(node.right)\n",
    "            \n",
    "    def search(self, node, value):\n",
    "        if node is None or value == node.value:\n",
    "            return node\n",
    "        # (false, true)[condition]\n",
    "        child = (node.right, node.left)[value < node.value]\n",
    "        return self.search(child, value)\n",
    "    \n",
    "    def minimun(self, node):\n",
    "        while node.left is not None:\n",
    "            node = node.left\n",
    "        return node\n",
    "    \n",
    "    def maximum(self, node):\n",
    "        while node.right is not None:\n",
    "            node.right = node\n",
    "        return node\n",
    "    \n",
    "    def sucessor(self, node):\n",
    "        if node.right is not None:\n",
    "            self.minimum(node.right)\n",
    "        parent = node.parent\n",
    "        while parent is not None and node == parent.right:\n",
    "            node = parent\n",
    "            parent = parent.parent\n",
    "        return parent\n",
    "            \n",
    "    def insert(self, node):\n",
    "        parent = None\n",
    "        aux_node = self.root\n",
    "        while aux_node is not None:\n",
    "            parent = root\n",
    "            # (false, true)[condition]\n",
    "            aux_node = (aux_node.right, aux_node.left)[node.value < aux_node.value]\n",
    "            \n",
    "        node.parent = parent\n",
    "        if parent is None:\n",
    "            self.root = node\n",
    "        else:\n",
    "            if node.value < parent.value:\n",
    "                parent.left = node\n",
    "            else:\n",
    "                parent.right = node\n",
    "                \n",
    "    def delete(self, node):\n",
    "        # (false, true)[condition]\n",
    "        aux_node = (self.sucessor(node), node)[node.left is None or node.right is None]\n",
    "        node = (aux_node.right, aux_node.left)[aux_node.left is not None]\n",
    "        \n",
    "        if node is not None:\n",
    "            node.parent = aux_node.parent\n",
    "        \n",
    "        if aux_node.parent is None:\n",
    "            self.root = node\n",
    "        else:\n",
    "            if aux_node == aux_node.parent.left:\n",
    "                aux_node.parent.left = node\n",
    "            else:\n",
    "                aux_node.parent.right = node\n",
    "        if aux_node is not node:\n",
    "            node.value = aux_node.value\n",
    "        return aux_node"
   ]
  },
  {
   "cell_type": "code",
   "execution_count": 7,
   "metadata": {},
   "outputs": [
    {
     "name": "stdout",
     "output_type": "stream",
     "text": [
      "4\n"
     ]
    }
   ],
   "source": [
    "a = (4, 3)[5 is None]\n",
    "print(a)"
   ]
  },
  {
   "cell_type": "code",
   "execution_count": null,
   "metadata": {},
   "outputs": [],
   "source": []
  }
 ],
 "metadata": {
  "kernelspec": {
   "display_name": "Python 3",
   "language": "python",
   "name": "python3"
  },
  "language_info": {
   "codemirror_mode": {
    "name": "ipython",
    "version": 3
   },
   "file_extension": ".py",
   "mimetype": "text/x-python",
   "name": "python",
   "nbconvert_exporter": "python",
   "pygments_lexer": "ipython3",
   "version": "3.7.3"
  }
 },
 "nbformat": 4,
 "nbformat_minor": 2
}
