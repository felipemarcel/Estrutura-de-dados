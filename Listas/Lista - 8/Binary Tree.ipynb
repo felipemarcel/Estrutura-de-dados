{
 "cells": [
  {
   "cell_type": "code",
   "execution_count": null,
   "metadata": {},
   "outputs": [],
   "source": [
    "class Node:\n",
    "    def __init__(self, value=None, left=None, right = None):\n",
    "        self.value = value\n",
    "        self.left = left\n",
    "        self.right = right"
   ]
  },
  {
   "cell_type": "code",
   "execution_count": null,
   "metadata": {},
   "outputs": [],
   "source": [
    "class Tree:\n",
    "    \n",
    "    def __init__(self, root=None):\n",
    "        self.root = root\n",
    "        \n",
    "    def insert(self, parent, node):\n",
    "        if self.root is None:\n",
    "            self.root = node\n",
    "        else:\n",
    "            # (false, true)[condition]\n",
    "            value = (node.right, node.left)[node.value <= parent.value]\n",
    "            self.insert(value, node)\n",
    "    \n",
    "    def pre_order(self, node):\n",
    "        print(node.value)\n",
    "        if node.left is not None:\n",
    "            self.pre_order(node.left)\n",
    "        if node.right is not None:\n",
    "            self.pre_order(node.right)\n",
    "            \n",
    "    \n",
    "    def in_order(self, node):\n",
    "        if node.left is not None:\n",
    "            self.in_order(node.left)\n",
    "            \n",
    "        print(node.value)\n",
    "        \n",
    "        if node.right is not None:\n",
    "            self.in_order(node.right)\n",
    "    \n",
    "    def pos_order(self. node):\n",
    "        if node.left is not None:\n",
    "            self.pos_order(node.left)\n",
    "        if self.node.right is not None:\n",
    "            self.pos_order(node.right)\n",
    "        print(node.value)\n",
    "    \n",
    "    def search(self, value):\n",
    "        if self.root is None:\n",
    "            return None\n",
    "        elif self.root.value == value:\n",
    "            return self.root\n",
    "        elif value > self.root.value:\n",
    "            self.search(self.root.right, value)\n",
    "        else:\n",
    "            self.serach(self.root.left, value)\n",
    "    "
   ]
  }
 ],
 "metadata": {
  "kernelspec": {
   "display_name": "Python 3",
   "language": "python",
   "name": "python3"
  },
  "language_info": {
   "codemirror_mode": {
    "name": "ipython",
    "version": 3
   },
   "file_extension": ".py",
   "mimetype": "text/x-python",
   "name": "python",
   "nbconvert_exporter": "python",
   "pygments_lexer": "ipython3",
   "version": "3.7.3"
  }
 },
 "nbformat": 4,
 "nbformat_minor": 2
}
