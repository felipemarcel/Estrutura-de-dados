{
 "cells": [
  {
   "cell_type": "code",
   "execution_count": null,
   "metadata": {},
   "outputs": [],
   "source": [
    "# Definição da classe Node\n",
    "class Node:\n",
    "    \n",
    "    # Construtor\n",
    "    def __init__(self, info=None):\n",
    "        self.info = info\n",
    "    \n",
    "    # Impressão customizada\n",
    "    def __str__(self):\n",
    "        return \"{}\".format(self.info)"
   ]
  },
  {
   "cell_type": "code",
   "execution_count": null,
   "metadata": {},
   "outputs": [],
   "source": [
    "# Definição da classe List e suas funções\n",
    "class List:\n",
    "    \n",
    "    # Construtor\n",
    "    def __init__(self, head=None):\n",
    "        self.head = head\n",
    "\n",
    "    def __str__(self):\n",
    "        return \"{}\".format(self.head)\n",
    "    \n",
    "    # Inserção\n",
    "    def insert(self,node):\n",
    "        print(\"head -> {}\".format(self.head))\n",
    "        node.next = self.head\n",
    "        node.prev = None\n",
    "        self.head = node\n",
    "    \n",
    "    # Remoção\n",
    "    def remove(self, node):\n",
    "        current = self.head\n",
    "        previous = None\n",
    "\n",
    "        while current != None and current.info != node.info:\n",
    "            previous = current\n",
    "            current = current.next\n",
    "        print(current)\n",
    "        print(previous)\n",
    "        if previous == None:\n",
    "            print(\"head\")\n",
    "            self.head = current.next\n",
    "        elif current.next == None:\n",
    "            print(\"Tail\")\n",
    "            previous.next = None\n",
    "        else:\n",
    "            print(\"intermediario\")\n",
    "            print(current.next)\n",
    "            previous.next = current.next\n",
    "            current.next = None\n",
    "    \n",
    "    # Busca\n",
    "    def search(self, node):\n",
    "        current = self.head\n",
    "        while current != None and current.info != node.info:\n",
    "            current = current.next\n",
    "        return current\n",
    "    \n",
    "    # Imprime todos os elementos\n",
    "    def elements(self, current):       \n",
    "        print(\"->{}\".format(current), end = '')\n",
    "        if current != None:\n",
    "            self.elements(current.next)"
   ]
  },
  {
   "cell_type": "code",
   "execution_count": null,
   "metadata": {},
   "outputs": [],
   "source": [
    "# Definição da classe Node\n",
    "class Node:\n",
    "    \n",
    "    # Construtor\n",
    "    def __init__(self, info=None):\n",
    "        self.info = info\n",
    "    \n",
    "    # Impressão customizada\n",
    "    def __str__(self):\n",
    "        return \"{}\".format(self.info)"
   ]
  }
 ],
 "metadata": {
  "kernelspec": {
   "display_name": "Python 3",
   "language": "python",
   "name": "python3"
  },
  "language_info": {
   "codemirror_mode": {
    "name": "ipython",
    "version": 3
   },
   "file_extension": ".py",
   "mimetype": "text/x-python",
   "name": "python",
   "nbconvert_exporter": "python",
   "pygments_lexer": "ipython3",
   "version": "3.7.3"
  }
 },
 "nbformat": 4,
 "nbformat_minor": 2
}
