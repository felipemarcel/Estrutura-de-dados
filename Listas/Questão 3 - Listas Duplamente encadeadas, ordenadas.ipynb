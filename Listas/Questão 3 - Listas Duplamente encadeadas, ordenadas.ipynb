{
 "cells": [
  {
   "cell_type": "code",
   "execution_count": 38,
   "metadata": {},
   "outputs": [],
   "source": [
    "# Definição da classe Node\n",
    "class Node:\n",
    "    \n",
    "    # Construtor\n",
    "    def __init__(self, info=None):\n",
    "        self.info = info\n",
    "    \n",
    "    # Impressão customizada\n",
    "    def __str__(self):\n",
    "        return \"{}\".format(self.info)"
   ]
  },
  {
   "cell_type": "code",
   "execution_count": 39,
   "metadata": {},
   "outputs": [],
   "source": [
    "# Definição da classe List e suas funções\n",
    "class List:\n",
    "    \n",
    "    # Construtor\n",
    "    def __init__(self, head=None):\n",
    "        self.head = head\n",
    "\n",
    "    def __str__(self):\n",
    "        return \"{}\".format(self.head)\n",
    "    \n",
    "    # Inserção\n",
    "    def insert(self,node):\n",
    "        print(\"head -> {}\".format(self.head))\n",
    "        node.next = self.head\n",
    "        self.head = node\n",
    "    \n",
    "    # Remoção\n",
    "    def remove(self, node):\n",
    "        current = self.head\n",
    "        previous = self.head\n",
    "\n",
    "        while current != None and current.info != node.info:\n",
    "            previous = current\n",
    "            current = current.next\n",
    "        print(current)\n",
    "        print(previous)\n",
    "        if previous == None:\n",
    "            \n",
    "            self.head = current.next\n",
    "        elif current.next == None:\n",
    "            previous.next = None\n",
    "        else:\n",
    "            print(current.next)\n",
    "            previous.next = current.next\n",
    "            current.next = None\n",
    "    \n",
    "    # Busca\n",
    "    def search(self, node):\n",
    "        current = self.head\n",
    "        while current != None and current.info != node.info:\n",
    "            current = current.next\n",
    "        return current\n",
    "    \n",
    "    # Imprime todos os elementos\n",
    "    def elements(self, current):       \n",
    "        print(\"->{}\".format(current), end = '')\n",
    "        if current != None:\n",
    "            self.elements(current.next)"
   ]
  },
  {
   "cell_type": "code",
   "execution_count": 40,
   "metadata": {},
   "outputs": [],
   "source": [
    "# Criação dos nós\n",
    "n1 = Node(15)\n",
    "n2 = Node(2)\n",
    "n3 = Node(4)\n",
    "n4 = Node(32)"
   ]
  },
  {
   "cell_type": "code",
   "execution_count": 41,
   "metadata": {},
   "outputs": [
    {
     "name": "stdout",
     "output_type": "stream",
     "text": [
      "Imprime lista vazia: None\n"
     ]
    }
   ],
   "source": [
    "# Criação da lista\n",
    "l = List()\n",
    "\n",
    "# Imprime lista vazia, recém criada -> None\n",
    "print(\"Imprime lista vazia: \", end = '')\n",
    "print(l)"
   ]
  },
  {
   "cell_type": "code",
   "execution_count": 42,
   "metadata": {},
   "outputs": [
    {
     "name": "stdout",
     "output_type": "stream",
     "text": [
      "head -> None\n",
      "head -> None\n",
      "head -> None\n",
      "head -> None\n"
     ]
    }
   ],
   "source": [
    "# Adiciona os nós 15, 2, 4 e 32.\n",
    "l.insert(n1)\n",
    "l.insert(n2)\n",
    "l.insert(n3)\n",
    "l.insert(n4)"
   ]
  },
  {
   "cell_type": "code",
   "execution_count": 43,
   "metadata": {},
   "outputs": [
    {
     "name": "stdout",
     "output_type": "stream",
     "text": [
      "Mostra todos os elementos inseridos na lista: head->None"
     ]
    }
   ],
   "source": [
    "# Imprime os elementos da lista em ordem de inserção -> 32, 4,2,15\n",
    "print(\"Mostra todos os elementos inseridos na lista: head\", end = '')\n",
    "l.elements(l.head)"
   ]
  },
  {
   "cell_type": "code",
   "execution_count": 44,
   "metadata": {},
   "outputs": [
    {
     "name": "stdout",
     "output_type": "stream",
     "text": [
      "None\n"
     ]
    },
    {
     "ename": "AttributeError",
     "evalue": "'NoneType' object has no attribute 'prev'",
     "output_type": "error",
     "traceback": [
      "\u001b[0;31m---------------------------------------------------------------------------\u001b[0m",
      "\u001b[0;31mAttributeError\u001b[0m                            Traceback (most recent call last)",
      "\u001b[0;32m<ipython-input-44-9503da7b1742>\u001b[0m in \u001b[0;36m<module>\u001b[0;34m\u001b[0m\n\u001b[1;32m      1\u001b[0m \u001b[0mn\u001b[0m \u001b[0;34m=\u001b[0m \u001b[0ml\u001b[0m\u001b[0;34m.\u001b[0m\u001b[0msearch\u001b[0m\u001b[0;34m(\u001b[0m\u001b[0mn2\u001b[0m\u001b[0;34m)\u001b[0m\u001b[0;34m\u001b[0m\u001b[0;34m\u001b[0m\u001b[0m\n\u001b[1;32m      2\u001b[0m \u001b[0mprint\u001b[0m\u001b[0;34m(\u001b[0m\u001b[0mn\u001b[0m\u001b[0;34m)\u001b[0m\u001b[0;34m\u001b[0m\u001b[0;34m\u001b[0m\u001b[0m\n\u001b[0;32m----> 3\u001b[0;31m \u001b[0mprint\u001b[0m\u001b[0;34m(\u001b[0m\u001b[0;34m\"Previous -> {}\"\u001b[0m\u001b[0;34m.\u001b[0m\u001b[0mformat\u001b[0m\u001b[0;34m(\u001b[0m\u001b[0mn\u001b[0m\u001b[0;34m.\u001b[0m\u001b[0mprev\u001b[0m\u001b[0;34m)\u001b[0m\u001b[0;34m)\u001b[0m\u001b[0;34m\u001b[0m\u001b[0;34m\u001b[0m\u001b[0m\n\u001b[0m\u001b[1;32m      4\u001b[0m \u001b[0mprint\u001b[0m\u001b[0;34m(\u001b[0m\u001b[0;34m\"Next -> {}\"\u001b[0m\u001b[0;34m.\u001b[0m\u001b[0mformat\u001b[0m\u001b[0;34m(\u001b[0m\u001b[0mn\u001b[0m\u001b[0;34m.\u001b[0m\u001b[0mnext\u001b[0m\u001b[0;34m)\u001b[0m\u001b[0;34m)\u001b[0m\u001b[0;34m\u001b[0m\u001b[0;34m\u001b[0m\u001b[0m\n",
      "\u001b[0;31mAttributeError\u001b[0m: 'NoneType' object has no attribute 'prev'"
     ]
    }
   ],
   "source": [
    "n = l.search(n2)\n",
    "print(n)\n",
    "print(\"Previous -> {}\".format(n.prev))\n",
    "print(\"Next -> {}\".format(n.next))"
   ]
  },
  {
   "cell_type": "code",
   "execution_count": null,
   "metadata": {},
   "outputs": [],
   "source": []
  }
 ],
 "metadata": {
  "kernelspec": {
   "display_name": "Python 3",
   "language": "python",
   "name": "python3"
  },
  "language_info": {
   "codemirror_mode": {
    "name": "ipython",
    "version": 3
   },
   "file_extension": ".py",
   "mimetype": "text/x-python",
   "name": "python",
   "nbconvert_exporter": "python",
   "pygments_lexer": "ipython3",
   "version": "3.7.3"
  }
 },
 "nbformat": 4,
 "nbformat_minor": 2
}
