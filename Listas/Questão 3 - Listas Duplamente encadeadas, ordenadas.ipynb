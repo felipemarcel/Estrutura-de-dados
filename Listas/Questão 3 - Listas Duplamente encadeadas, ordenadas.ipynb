{
 "cells": [
  {
   "cell_type": "code",
   "execution_count": 1,
   "metadata": {},
   "outputs": [],
   "source": [
    "# Definição da classe Node\n",
    "class Node:\n",
    "    \n",
    "    # Construtor\n",
    "    def __init__(self, info=None):\n",
    "        self.info = info\n",
    "    \n",
    "    # Impressão customizada\n",
    "    def __str__(self):\n",
    "        return \"{}\".format(self.info)"
   ]
  },
  {
   "cell_type": "code",
   "execution_count": 8,
   "metadata": {},
   "outputs": [],
   "source": [
    "# Definição da classe List e suas funções\n",
    "class List:\n",
    "    \n",
    "    # Item 1\n",
    "    # Construtor para lista vazia\n",
    "    def __init__(self, head=None):\n",
    "        self.head = head\n",
    "\n",
    "    def __str__(self):\n",
    "        return \"{}\".format(self.head)\n",
    "    \n",
    "    # Item 2\n",
    "    # Inserção.\n",
    "    def insert(self,node):\n",
    "        print(\"head -> {}\".format(self.head))\n",
    "        current = self.head\n",
    "        previous = None\n",
    "        while current!= None and node.info > current.info:\n",
    "            previous = current\n",
    "            current = current.next\n",
    "            \n",
    "        if previous == None:\n",
    "            node.next = self.head\n",
    "            node.prev = None\n",
    "            self.head = node\n",
    "        else:\n",
    "            node.next = \n",
    "        \n",
    "        if self.head != None:\n",
    "            self.head.prev = node\n",
    "        self.head = node\n",
    "        \n",
    "    # Item 3\n",
    "    # Imprime todos os elementos utilizando um laço\n",
    "    def elements(self):\n",
    "        current = self.head\n",
    "        print(\"->{}\".format(current), end = '')\n",
    "        while current != None:\n",
    "            current = current.next\n",
    "            print(\"->{}\".format(current), end = '')\n",
    "        \n",
    "        \n",
    "    # Item 4\n",
    "    # Imprime todos os elementos da lista de forma recursiva\n",
    "    def elements_rec(self, current):       \n",
    "        print(\"->{}\".format(current), end = '')\n",
    "        if current != None:\n",
    "            self.elements_rec(current.next)\n",
    "            \n",
    "    # Item 5\n",
    "    # Imprime todos os elementos da lista de forme recursiva e reversa\n",
    "    def elements_rec_reverse(self, current):\n",
    "        if current != None: \n",
    "            self.elements_rec_reverse(current.next)\n",
    "        print(\"->{}\".format(current), end = '')\n",
    "        \n",
    "    \n",
    "    # Item 6\n",
    "    # Verifica se a lista está vazia\n",
    "    # Verifica se a cabeça da lista é não nula, utilizando o operador ternário do python.\n",
    "    # sintaxe: (se_cond_false, se_cond_true)[cond]\n",
    "    # Se lista vazia, então not self.head = not None = true.\n",
    "    \n",
    "    def is_empty(self):\n",
    "        return (0, 1)[not self.head]\n",
    "    \n",
    "    # Remoção\n",
    "    def remove(self, node):\n",
    "        current = self.head\n",
    "        previous = self.head\n",
    "\n",
    "        while current != None and current.info != node.info:\n",
    "            previous = current\n",
    "            current = current.next\n",
    "        print(current)\n",
    "        print(previous)\n",
    "        if previous == None:\n",
    "            \n",
    "            self.head = current.next\n",
    "        elif current.next == None:\n",
    "            previous.next = None\n",
    "        else:\n",
    "            print(current.next)\n",
    "            previous.next = current.next\n",
    "            current.next = None\n",
    "            \n",
    "    # Encontra o sucessor de um nó\n",
    "    def sucessor(self, node):\n",
    "        n = self.search(node)\n",
    "        return n.next\n",
    "    \n",
    "    # Encontra o predecessor de um nó\n",
    "    def predecessor(self, node):\n",
    "        n = self.search(node)\n",
    "        return n.prev"
   ]
  },
  {
   "cell_type": "code",
   "execution_count": 9,
   "metadata": {},
   "outputs": [],
   "source": [
    "# Criação dos nós\n",
    "n1 = Node(15)\n",
    "n2 = Node(2)\n",
    "n3 = Node(4)\n",
    "n4 = Node(32)"
   ]
  },
  {
   "cell_type": "code",
   "execution_count": 10,
   "metadata": {},
   "outputs": [
    {
     "name": "stdout",
     "output_type": "stream",
     "text": [
      "Imprime lista vazia: None\n"
     ]
    }
   ],
   "source": [
    "# Criação da lista\n",
    "l = List()\n",
    "\n",
    "# Imprime lista vazia, recém criada -> None\n",
    "print(\"Imprime lista vazia: \", end = '')\n",
    "print(l)"
   ]
  },
  {
   "cell_type": "code",
   "execution_count": 11,
   "metadata": {},
   "outputs": [
    {
     "name": "stdout",
     "output_type": "stream",
     "text": [
      "head -> None\n",
      "head -> 15\n",
      "head -> 2\n",
      "head -> 4\n"
     ]
    }
   ],
   "source": [
    "# Adiciona os nós 15, 2, 4 e 32.\n",
    "l.insert(n1)\n",
    "l.insert(n2)\n",
    "l.insert(n3)\n",
    "l.insert(n4)"
   ]
  },
  {
   "cell_type": "code",
   "execution_count": 13,
   "metadata": {},
   "outputs": [
    {
     "name": "stdout",
     "output_type": "stream",
     "text": [
      "Mostra todos os elementos inseridos na lista: head->32->4->2->15->None"
     ]
    }
   ],
   "source": [
    "# Imprime os elementos da lista em ordem de inserção -> 32, 4,2,15\n",
    "print(\"Mostra todos os elementos inseridos na lista: head\", end = '')\n",
    "l.elements()"
   ]
  },
  {
   "cell_type": "code",
   "execution_count": 7,
   "metadata": {},
   "outputs": [
    {
     "name": "stdout",
     "output_type": "stream",
     "text": [
      "15\n",
      "Previous -> 2\n",
      "Next -> None\n",
      "None\n",
      "None\n"
     ]
    }
   ],
   "source": [
    "n = l.search(n1)\n",
    "print(n)\n",
    "print(\"Previous -> {}\".format(n.prev))\n",
    "print(\"Next -> {}\".format(n.next))\n",
    "\n",
    "print(l.predecessor(n4))\n",
    "print(l.sucessor(n1))"
   ]
  },
  {
   "cell_type": "code",
   "execution_count": null,
   "metadata": {},
   "outputs": [],
   "source": []
  }
 ],
 "metadata": {
  "kernelspec": {
   "display_name": "Python 3",
   "language": "python",
   "name": "python3"
  },
  "language_info": {
   "codemirror_mode": {
    "name": "ipython",
    "version": 3
   },
   "file_extension": ".py",
   "mimetype": "text/x-python",
   "name": "python",
   "nbconvert_exporter": "python",
   "pygments_lexer": "ipython3",
   "version": "3.7.3"
  }
 },
 "nbformat": 4,
 "nbformat_minor": 2
}
