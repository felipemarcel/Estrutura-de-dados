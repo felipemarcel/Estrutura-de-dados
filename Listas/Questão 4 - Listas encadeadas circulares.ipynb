{
 "cells": [
  {
   "cell_type": "code",
   "execution_count": 72,
   "metadata": {},
   "outputs": [],
   "source": [
    "# Definição da classe Node\n",
    "class Node:\n",
    "    \n",
    "    # Construtor\n",
    "    def __init__(self, info=None):\n",
    "        self.info = info\n",
    "    \n",
    "    # Impressão customizada\n",
    "    def __str__(self):\n",
    "        return \"{}\".format(self.info)\n",
    "    "
   ]
  },
  {
   "cell_type": "code",
   "execution_count": 96,
   "metadata": {},
   "outputs": [],
   "source": [
    "# Definição da classe List e suas funções\n",
    "class List:\n",
    "    \n",
    "    # Item 1\n",
    "    # Construtor para lista vazia\n",
    "    def __init__(self, head=None):\n",
    "        self.head = head\n",
    "\n",
    "    def __str__(self):\n",
    "        return \"{}\".format(self.head)\n",
    "    \n",
    "    # Item 2\n",
    "    # Inserção no início, head.\n",
    "    def insert(self, node):\n",
    "        print(\"head -> {}, Inserindo -> {}\".format(self.head, node))\n",
    "        current = self.head\n",
    "        node.next = self.head\n",
    "        \n",
    "        if current is not None: \n",
    "            while(current.next != self.head): \n",
    "                current = current.next \n",
    "            current.next = node \n",
    "        else: \n",
    "            node.next = node\n",
    "            \n",
    "        self.head = node\n",
    "  \n",
    "        \n",
    "    # Item 3\n",
    "    # Imprime todos os elementos utilizando um laço\n",
    "    def elements(self):\n",
    "        current = self.head\n",
    "        print(\"->{}\".format(current), end = '')\n",
    "        while current != None and current.next != self.head:\n",
    "            current = current.next\n",
    "            print(\"->{}\".format(current), end = '')\n",
    "    \n",
    "    # Item 4\n",
    "    # Imprime todos os elementos da lista de forma recursiva\n",
    "    def elements_rec(self, current):       \n",
    "        print(\"->{}\".format(current), end = '')\n",
    "        if current != None and current.next != self.head:\n",
    "            self.elements_rec(current.next)\n",
    "    \n",
    "    # Item 5\n",
    "    # Verifica se a lista está vazia\n",
    "    # Verifica se a cabeça da lista é não nula, utilizando o operador ternário do python.\n",
    "    # sintaxe: (se_cond_false, se_cond_true)[cond]\n",
    "    # Se lista vazia, então not self.head = not None = true.\n",
    "    def is_empty(self):\n",
    "        return (0, 1)[not self.head]\n",
    "    \n",
    "        \n",
    "    # Item 6\n",
    "    # Busca\n",
    "    def search(self, node):\n",
    "        current = self.head\n",
    "        while current != None and current.next != self.head and current.info != node.info:\n",
    "            current = current.next\n",
    "        return (current, None)[current.next.info == self.head.info]\n",
    "    \n",
    "    # Item 7\n",
    "    # Remoção\n",
    "    def remove(self, node):\n",
    "        current = self.head\n",
    "        previous = None\n",
    "\n",
    "        while current != None and current.next != self.head and current.info != node.info:\n",
    "            previous = current\n",
    "            current = current.next\n",
    "        if current.next == self.head:\n",
    "            print(\"head\")\n",
    "        else:\n",
    "            print(\"others\")\n",
    "            \n",
    "            \n",
    "        if previous == None:\n",
    "            self.head = current.next\n",
    "        elif current.next == None:\n",
    "            previous.next = None\n",
    "        else:\n",
    "            previous.next = current.next\n",
    "            current.next = None\n",
    "            \n",
    "    # Item 8\n",
    "    # Remoção recursiva\n",
    "    \n",
    "    \n",
    "    # Item 9\n",
    "    # Libera a lista, remove todos os elementos.\n",
    "    def free(self):\n",
    "        print(\"Removendo todos os elementos da lista\")\n",
    "        current = self.head\n",
    "        while current != None:\n",
    "            self.remove(current)\n",
    "            current = current.next "
   ]
  },
  {
   "cell_type": "code",
   "execution_count": 97,
   "metadata": {},
   "outputs": [],
   "source": [
    "# Criação dos nós\n",
    "n1 = Node(15)\n",
    "n2 = Node(2)\n",
    "n3 = Node(4)\n",
    "n4 = Node(32)"
   ]
  },
  {
   "cell_type": "code",
   "execution_count": 98,
   "metadata": {},
   "outputs": [
    {
     "name": "stdout",
     "output_type": "stream",
     "text": [
      "Imprime lista vazia: None\n"
     ]
    }
   ],
   "source": [
    "# Item 1\n",
    "# Criação da lista vazia\n",
    "l = List()\n",
    "\n",
    "# Imprime lista vazia, recém criada -> None\n",
    "print(\"Imprime lista vazia: \", end = '')\n",
    "print(l)"
   ]
  },
  {
   "cell_type": "code",
   "execution_count": 99,
   "metadata": {},
   "outputs": [
    {
     "name": "stdout",
     "output_type": "stream",
     "text": [
      "head -> None, Inserindo -> 15\n",
      "head -> 15, Inserindo -> 2\n",
      "head -> 2, Inserindo -> 4\n",
      "head -> 4, Inserindo -> 32\n"
     ]
    }
   ],
   "source": [
    "# Item 2\n",
    "# Adiciona os nós 15, 2, 4 e 32 no inicio da lista.\n",
    "l.insert(n1)\n",
    "l.insert(n2)\n",
    "l.insert(n3)\n",
    "l.insert(n4)"
   ]
  },
  {
   "cell_type": "code",
   "execution_count": 100,
   "metadata": {},
   "outputs": [
    {
     "name": "stdout",
     "output_type": "stream",
     "text": [
      "Mostra todos os elementos inseridos na lista: head->32->4->2->15"
     ]
    }
   ],
   "source": [
    "# Item 3\n",
    "# Imprime os elementos da lista em ordem de inserção -> 32,4,2,15\n",
    "print(\"Mostra todos os elementos inseridos na lista: head\", end = '')\n",
    "l.elements()"
   ]
  },
  {
   "cell_type": "code",
   "execution_count": 101,
   "metadata": {},
   "outputs": [
    {
     "name": "stdout",
     "output_type": "stream",
     "text": [
      "->32->4->2->15"
     ]
    }
   ],
   "source": [
    "# Item 4\n",
    "# Imprime os elementos da lista através de recursão, saída deve ser a mesma do item 3.\n",
    "l.elements_rec(l.head)"
   ]
  },
  {
   "cell_type": "code",
   "execution_count": 102,
   "metadata": {},
   "outputs": [
    {
     "name": "stdout",
     "output_type": "stream",
     "text": [
      "Retorno -> 0. A lista em questão não está vazia.\n",
      "Retorno -> 1. A lista em questão está vazia.\n"
     ]
    }
   ],
   "source": [
    "# Item 5\n",
    "# Verifica se uma lista está vazia, se tiver retorna 1, se não retorna 0\n",
    "empty_list = List()\n",
    "\n",
    "print(\"Retorno -> {}. A lista em questão não está vazia.\".format(l.is_empty()))\n",
    "print(\"Retorno -> {}. A lista em questão está vazia.\".format(empty_list.is_empty()))"
   ]
  },
  {
   "cell_type": "code",
   "execution_count": 103,
   "metadata": {},
   "outputs": [
    {
     "name": "stdout",
     "output_type": "stream",
     "text": [
      "2\n",
      "None\n"
     ]
    }
   ],
   "source": [
    "# Item 6\n",
    "# Recupera um elemento da lista, retornando o campo info se ela existir, ou None se não existir.\n",
    "print(l.search(Node(2)))\n",
    "print(l.search(Node(10)))"
   ]
  },
  {
   "cell_type": "code",
   "execution_count": 104,
   "metadata": {},
   "outputs": [
    {
     "name": "stdout",
     "output_type": "stream",
     "text": [
      "Mostra todos os elementos inseridos na lista: head->32->4->2->15\n",
      "head->32\n",
      "primeiro elemento-> 4\n",
      "segundo elemento->2\n",
      "terceiro elemento->15\n",
      "head ->32\n"
     ]
    }
   ],
   "source": [
    "# Imprime todos os elementos e mostra que é uma lista circular\n",
    "print(\"Mostra todos os elementos inseridos na lista: head\", end = '')\n",
    "l.elements()\n",
    "print()\n",
    "head = l.head\n",
    "first = head.next\n",
    "second = first.next\n",
    "third = second.next\n",
    "print(\"head->{}\".format(head))\n",
    "print(\"primeiro elemento-> {}\".format(first))\n",
    "print(\"segundo elemento->{}\".format(second))\n",
    "print(\"terceiro elemento->{}\".format(third))\n",
    "print(\"head ->{}\".format(third.next))"
   ]
  },
  {
   "cell_type": "code",
   "execution_count": 105,
   "metadata": {},
   "outputs": [
    {
     "name": "stdout",
     "output_type": "stream",
     "text": [
      "Mostra todos os elementos inseridos na lista: head->32->4->2->15\n",
      "Mostra todos os elementos inseridos na lista: head->4->2->15->32"
     ]
    }
   ],
   "source": [
    "# Item 7\n",
    "# Remover um determinado elemento da lista\n",
    "# Imprime a lista antes da remoção\n",
    "print(\"Mostra todos os elementos inseridos na lista: head\", end = '')\n",
    "l.elements()\n",
    "print()\n",
    "\n",
    "# Remove elemento head: 32.\n",
    "l.remove(n4)\n",
    "# Imprime os elementos da lista após remoção-> 4,2,15\n",
    "print(\"Mostra todos os elementos inseridos na lista: head\", end = '')\n",
    "l.elements()"
   ]
  },
  {
   "cell_type": "code",
   "execution_count": 61,
   "metadata": {},
   "outputs": [],
   "source": [
    "# Item 8\n",
    "# Remover um determinado elemento da lista usando recursão"
   ]
  },
  {
   "cell_type": "code",
   "execution_count": 62,
   "metadata": {},
   "outputs": [
    {
     "name": "stdout",
     "output_type": "stream",
     "text": [
      "->4->2->15->32\n",
      "Removendo todos os elementos da lista\n"
     ]
    },
    {
     "ename": "KeyboardInterrupt",
     "evalue": "",
     "output_type": "error",
     "traceback": [
      "\u001b[1;31m---------------------------------------------------------------------------\u001b[0m",
      "\u001b[1;31mKeyboardInterrupt\u001b[0m                         Traceback (most recent call last)",
      "\u001b[1;32m<ipython-input-62-e22e2c424f84>\u001b[0m in \u001b[0;36m<module>\u001b[1;34m\u001b[0m\n\u001b[0;32m      4\u001b[0m \u001b[0ml\u001b[0m\u001b[1;33m.\u001b[0m\u001b[0melements\u001b[0m\u001b[1;33m(\u001b[0m\u001b[1;33m)\u001b[0m\u001b[1;33m\u001b[0m\u001b[1;33m\u001b[0m\u001b[0m\n\u001b[0;32m      5\u001b[0m \u001b[0mprint\u001b[0m\u001b[1;33m(\u001b[0m\u001b[1;33m)\u001b[0m\u001b[1;33m\u001b[0m\u001b[1;33m\u001b[0m\u001b[0m\n\u001b[1;32m----> 6\u001b[1;33m \u001b[0ml\u001b[0m\u001b[1;33m.\u001b[0m\u001b[0mfree\u001b[0m\u001b[1;33m(\u001b[0m\u001b[1;33m)\u001b[0m\u001b[1;33m\u001b[0m\u001b[1;33m\u001b[0m\u001b[0m\n\u001b[0m\u001b[0;32m      7\u001b[0m \u001b[0ml\u001b[0m\u001b[1;33m.\u001b[0m\u001b[0melements\u001b[0m\u001b[1;33m(\u001b[0m\u001b[1;33m)\u001b[0m\u001b[1;33m\u001b[0m\u001b[1;33m\u001b[0m\u001b[0m\n",
      "\u001b[1;32m<ipython-input-52-994cf9e9332a>\u001b[0m in \u001b[0;36mfree\u001b[1;34m(self)\u001b[0m\n\u001b[0;32m     87\u001b[0m         \u001b[0mcurrent\u001b[0m \u001b[1;33m=\u001b[0m \u001b[0mself\u001b[0m\u001b[1;33m.\u001b[0m\u001b[0mhead\u001b[0m\u001b[1;33m\u001b[0m\u001b[1;33m\u001b[0m\u001b[0m\n\u001b[0;32m     88\u001b[0m         \u001b[1;32mwhile\u001b[0m \u001b[0mcurrent\u001b[0m \u001b[1;33m!=\u001b[0m \u001b[1;32mNone\u001b[0m \u001b[1;32mand\u001b[0m \u001b[0mcurrent\u001b[0m\u001b[1;33m.\u001b[0m\u001b[0mnext\u001b[0m \u001b[1;33m!=\u001b[0m \u001b[0mself\u001b[0m\u001b[1;33m.\u001b[0m\u001b[0mhead\u001b[0m\u001b[1;33m:\u001b[0m\u001b[1;33m\u001b[0m\u001b[1;33m\u001b[0m\u001b[0m\n\u001b[1;32m---> 89\u001b[1;33m             \u001b[0mself\u001b[0m\u001b[1;33m.\u001b[0m\u001b[0mremove\u001b[0m\u001b[1;33m(\u001b[0m\u001b[0mcurrent\u001b[0m\u001b[1;33m)\u001b[0m\u001b[1;33m\u001b[0m\u001b[1;33m\u001b[0m\u001b[0m\n\u001b[0m\u001b[0;32m     90\u001b[0m             \u001b[0mcurrent\u001b[0m \u001b[1;33m=\u001b[0m \u001b[0mcurrent\u001b[0m\u001b[1;33m.\u001b[0m\u001b[0mnext\u001b[0m\u001b[1;33m\u001b[0m\u001b[1;33m\u001b[0m\u001b[0m\n",
      "\u001b[1;31mKeyboardInterrupt\u001b[0m: "
     ]
    }
   ],
   "source": [
    "# Item 9\n",
    "# Liberar a lista \n",
    "# Libera a lista, isto é, remove todos os elementos da lista.\n",
    "l.elements()\n",
    "print()\n",
    "l.free()\n",
    "l.elements()"
   ]
  },
  {
   "cell_type": "code",
   "execution_count": null,
   "metadata": {},
   "outputs": [],
   "source": []
  },
  {
   "cell_type": "code",
   "execution_count": null,
   "metadata": {},
   "outputs": [],
   "source": []
  }
 ],
 "metadata": {
  "kernelspec": {
   "display_name": "Python 3",
   "language": "python",
   "name": "python3"
  },
  "language_info": {
   "codemirror_mode": {
    "name": "ipython",
    "version": 3
   },
   "file_extension": ".py",
   "mimetype": "text/x-python",
   "name": "python",
   "nbconvert_exporter": "python",
   "pygments_lexer": "ipython3",
   "version": "3.7.3"
  }
 },
 "nbformat": 4,
 "nbformat_minor": 2
}
