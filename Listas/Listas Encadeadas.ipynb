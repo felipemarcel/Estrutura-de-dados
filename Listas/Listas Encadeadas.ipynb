{
 "cells": [
  {
   "cell_type": "code",
   "execution_count": 59,
   "metadata": {},
   "outputs": [],
   "source": [
    "# Definição da classe Node\n",
    "class Node:\n",
    "    \n",
    "    # Construtor\n",
    "    def __init__(self, info=None):\n",
    "        self.info = info\n",
    "    \n",
    "    # Impressão customizada\n",
    "    def __str__(self):\n",
    "        return \"{}\".format(self.info)\n",
    "    "
   ]
  },
  {
   "cell_type": "code",
   "execution_count": 68,
   "metadata": {
    "scrolled": true
   },
   "outputs": [],
   "source": [
    "# Definição da classe List e suas funções\n",
    "class List:\n",
    "    \n",
    "    # Construtor\n",
    "    def __init__(self, head=None):\n",
    "        self.head = head\n",
    "\n",
    "    def __str__(self):\n",
    "        return \"{}\".format(self.head)\n",
    "    \n",
    "    # Inserção\n",
    "    def insert(self,node):\n",
    "        print(\"head -> {}\".format(self.head))\n",
    "        node.next = self.head\n",
    "        self.head = node\n",
    "    \n",
    "    # Remoção\n",
    "    def remove(self, node):\n",
    "        current = self.head\n",
    "        previous = None\n",
    "\n",
    "        while current != None and current.info != node.info:\n",
    "            previous = current\n",
    "            current = current.next\n",
    "        print(current)\n",
    "        print(previous)\n",
    "        if previous == None:\n",
    "            print(\"head\")\n",
    "            self.head = current.next\n",
    "        elif current.next == None:\n",
    "            print(\"Tail\")\n",
    "            previous.next = None\n",
    "        else:\n",
    "            print(\"intermediario\")\n",
    "            print(current.next)\n",
    "            previous.next = current.next\n",
    "            current.next = None\n",
    "    \n",
    "    # Busca\n",
    "    def search(self, node):\n",
    "        current = self.head\n",
    "        while current != None and current.info != node.info:\n",
    "            current = current.next\n",
    "        return current\n",
    "    \n",
    "    # Imprime todos os elementos\n",
    "    def elements(self, current):       \n",
    "        print(\"->{}\".format(current), end = '')\n",
    "        if current != None:\n",
    "            self.elements(current.next)"
   ]
  },
  {
   "cell_type": "code",
   "execution_count": 69,
   "metadata": {},
   "outputs": [],
   "source": [
    "# Criação dos nós\n",
    "n1 = Node(15)\n",
    "n2 = Node(2)\n",
    "n3 = Node(4)\n",
    "n4 = Node(32)"
   ]
  },
  {
   "cell_type": "code",
   "execution_count": 70,
   "metadata": {},
   "outputs": [
    {
     "name": "stdout",
     "output_type": "stream",
     "text": [
      "Imprime lista vazia: None\n"
     ]
    }
   ],
   "source": [
    "# Criação da lista\n",
    "l = List()\n",
    "\n",
    "# Imprime lista vazia, recém criada -> None\n",
    "print(\"Imprime lista vazia: \", end = '')\n",
    "print(l)"
   ]
  },
  {
   "cell_type": "code",
   "execution_count": 71,
   "metadata": {},
   "outputs": [
    {
     "name": "stdout",
     "output_type": "stream",
     "text": [
      "head -> None\n",
      "head -> 15\n",
      "head -> 2\n",
      "head -> 4\n"
     ]
    }
   ],
   "source": [
    "# Adiciona os nós 15, 2, 4 e 32.\n",
    "l.insert(n1)\n",
    "l.insert(n2)\n",
    "l.insert(n3)\n",
    "l.insert(n4)"
   ]
  },
  {
   "cell_type": "code",
   "execution_count": 72,
   "metadata": {},
   "outputs": [
    {
     "name": "stdout",
     "output_type": "stream",
     "text": [
      "Mostra todos os elementos inseridos na lista: head->32->4->2->15->None"
     ]
    }
   ],
   "source": [
    "# Imprime os elementos da lista em ordem de inserção -> 32, 4,2,15\n",
    "print(\"Mostra todos os elementos inseridos na lista: head\", end = '')\n",
    "l.elements(l.head)"
   ]
  },
  {
   "cell_type": "code",
   "execution_count": 73,
   "metadata": {},
   "outputs": [
    {
     "name": "stdout",
     "output_type": "stream",
     "text": [
      "32\n",
      "None\n",
      "head\n",
      "Mostra todos os elementos inseridos na lista: head->4->2->15->None"
     ]
    }
   ],
   "source": [
    "# Remove elemento head: 32.\n",
    "l.remove(n4)\n",
    "\n",
    "# Imprime os elementos da lista após remoção-> 4,2,15\n",
    "print(\"Mostra todos os elementos inseridos na lista: head\", end = '')\n",
    "l.elements(l.head)"
   ]
  },
  {
   "cell_type": "code",
   "execution_count": 74,
   "metadata": {},
   "outputs": [
    {
     "name": "stdout",
     "output_type": "stream",
     "text": [
      "2\n",
      "4\n",
      "intermediario\n",
      "15\n",
      "Mostra todos os elementos inseridos na lista: head->4->15->None"
     ]
    }
   ],
   "source": [
    "# Remove elemento intermediário: 2.\n",
    "l.remove(n2)\n",
    "\n",
    "# Imprime os elementos da lista após remoção-> 4,2,15\n",
    "print(\"Mostra todos os elementos inseridos na lista: head\", end = '')\n",
    "l.elements(l.head)"
   ]
  },
  {
   "cell_type": "code",
   "execution_count": null,
   "metadata": {},
   "outputs": [],
   "source": []
  }
 ],
 "metadata": {
  "kernelspec": {
   "display_name": "Python 3",
   "language": "python",
   "name": "python3"
  },
  "language_info": {
   "codemirror_mode": {
    "name": "ipython",
    "version": 3
   },
   "file_extension": ".py",
   "mimetype": "text/x-python",
   "name": "python",
   "nbconvert_exporter": "python",
   "pygments_lexer": "ipython3",
   "version": "3.7.3"
  }
 },
 "nbformat": 4,
 "nbformat_minor": 2
}
