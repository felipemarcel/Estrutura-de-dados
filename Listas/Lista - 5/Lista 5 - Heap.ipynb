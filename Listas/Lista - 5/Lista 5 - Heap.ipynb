{
 "cells": [
  {
   "cell_type": "code",
   "execution_count": 139,
   "metadata": {},
   "outputs": [],
   "source": [
    "class Heap:\n",
    "    \n",
    "    def __init__(self, size=None, pos=None, values=None):\n",
    "        self.values = [int()]*size\n",
    "        self.size = size\n",
    "        self.pos = 0\n",
    "        \n",
    "    def change(self, parent, pos):\n",
    "        auxiliary = self.values[pos]\n",
    "        self.values[pos] = self.values[parent]\n",
    "        self.values[parent] = auxiliary\n",
    "        \n",
    "    def max_heapify(self, array, parent):\n",
    "        self.values = array\n",
    "        left_child = 2*parent+1\n",
    "        right_child = 2*parent+2\n",
    "        if left_child <= len(self.values) and self.values[left_child] > self.values[parent]:\n",
    "            max_value = left_child\n",
    "        else:\n",
    "            max_value = parent\n",
    "        \n",
    "        if right_child <= len(self.values) and self.values[right_child] > self.values[parent]:\n",
    "            max_value = parent\n",
    "        \n",
    "        print(max_value != parent)\n",
    "        if max_value != parent:\n",
    "            auxiliary = self.valeus[max_value]\n",
    "            self.values[max_value] = self.values[parent]\n",
    "            self.valeus[parent] = auxiliary\n",
    "            self.max_heapify(self.values, max_value)\n",
    "            \n",
    "    def build_max_heap(self, array):\n",
    "        self.values = array\n",
    "        i = int((len(self.values)-1) / 2)\n",
    "        while i > 0:\n",
    "            i -= 1\n",
    "            self.max_heapify(self.values, i)\n",
    "        return self.values\n",
    "            \n",
    "\n",
    "    def update_above(self, pos):\n",
    "        while pos > 0:\n",
    "            parent = int((pos - 1)/2)\n",
    "            if self.values[parent] < self.values[pos]:\n",
    "                self.change(parent, pos)\n",
    "            else:\n",
    "                break\n",
    "            pos = parent\n",
    "            \n",
    "    def update_below(self):\n",
    "        parent = 0\n",
    "        while (2*parent+1 < self.pos):\n",
    "            left_child = 2*parent+1\n",
    "            right_child = 2*parent+2\n",
    "            \n",
    "            if right_child > self.pos:\n",
    "                right_child = left_child\n",
    "                \n",
    "            if self.values[left_child] > self.values[right_child]:\n",
    "                child = left_child\n",
    "            else:\n",
    "                child = right_child\n",
    "            if self.values[parent] < self.values[child]:\n",
    "                self.change(parent, child)\n",
    "            else:\n",
    "                break\n",
    "            parent = child\n",
    "    \n",
    "    def insert(self, value):\n",
    "        if self.pos < self.size:\n",
    "            self.values[self.pos] = value\n",
    "            self.update_above(self.pos)\n",
    "            self.pos += 1\n",
    "        else:\n",
    "            print(\"Heap Cheio!\")\n",
    "    \n",
    "    def search(self, value):\n",
    "        pass\n",
    "    \n",
    "    def remove(self, value):\n",
    "        if self.pos > 0:\n",
    "            top = self.values[0]\n",
    "            self.values[0] = self.values[self.pos - 1]\n",
    "            self.pos -= 1\n",
    "            self.update_below()\n",
    "            return top\n",
    "        else: \n",
    "            print(\"Heap Vazio!\")\n",
    "            return -1\n",
    "    \n",
    "    def update(self, value):\n",
    "        pass\n",
    "    \n",
    "    def free(self):\n",
    "        i = 0\n",
    "        while i < self.size:\n",
    "            self.values[i] = 0\n",
    "            i += 1"
   ]
  },
  {
   "cell_type": "code",
   "execution_count": 140,
   "metadata": {},
   "outputs": [
    {
     "name": "stdout",
     "output_type": "stream",
     "text": [
      "[0, 0, 0, 0, 0, 0, 0, 0, 0, 0]\n"
     ]
    }
   ],
   "source": [
    "heap = Heap(10)\n",
    "print(heap.values)\n",
    "heap.insert(10)\n",
    "heap.insert(13)\n",
    "heap.insert(50)\n",
    "heap.insert(2)\n",
    "heap.insert(51)\n",
    "heap.insert(54)\n",
    "heap.insert(15)\n",
    "heap.insert(33)\n",
    "heap.insert(22)\n",
    "heap.insert(41)"
   ]
  },
  {
   "cell_type": "code",
   "execution_count": 141,
   "metadata": {},
   "outputs": [
    {
     "data": {
      "text/plain": [
       "[54, 50, 51, 33, 41, 13, 15, 2, 22, 10]"
      ]
     },
     "execution_count": 141,
     "metadata": {},
     "output_type": "execute_result"
    }
   ],
   "source": [
    "heap.values"
   ]
  },
  {
   "cell_type": "code",
   "execution_count": null,
   "metadata": {},
   "outputs": [],
   "source": []
  },
  {
   "cell_type": "code",
   "execution_count": 142,
   "metadata": {},
   "outputs": [],
   "source": [
    "heap.free()"
   ]
  },
  {
   "cell_type": "code",
   "execution_count": 143,
   "metadata": {},
   "outputs": [
    {
     "data": {
      "text/plain": [
       "[0, 0, 0, 0, 0, 0, 0, 0, 0, 0]"
      ]
     },
     "execution_count": 143,
     "metadata": {},
     "output_type": "execute_result"
    }
   ],
   "source": [
    "heap.values"
   ]
  },
  {
   "cell_type": "code",
   "execution_count": null,
   "metadata": {},
   "outputs": [],
   "source": []
  },
  {
   "cell_type": "code",
   "execution_count": 144,
   "metadata": {},
   "outputs": [
    {
     "name": "stdout",
     "output_type": "stream",
     "text": [
      "False\n",
      "False\n",
      "False\n",
      "False\n"
     ]
    }
   ],
   "source": [
    "array = [4, 1, 50, 32, 54, 38, 90, 87, 34, 12]\n",
    "h_array = heap.build_max_heap(array)"
   ]
  },
  {
   "cell_type": "code",
   "execution_count": 137,
   "metadata": {},
   "outputs": [
    {
     "name": "stdout",
     "output_type": "stream",
     "text": [
      "4\n",
      "1\n",
      "50\n",
      "32\n",
      "54\n",
      "38\n",
      "90\n",
      "87\n",
      "34\n",
      "12\n"
     ]
    }
   ],
   "source": [
    "for i in h_array:\n",
    "    print(i)"
   ]
  },
  {
   "cell_type": "code",
   "execution_count": 138,
   "metadata": {},
   "outputs": [
    {
     "data": {
      "text/plain": [
       "[4, 1, 50, 32, 54, 38, 90, 87, 34, 12]"
      ]
     },
     "execution_count": 138,
     "metadata": {},
     "output_type": "execute_result"
    }
   ],
   "source": [
    "heap.values"
   ]
  },
  {
   "cell_type": "code",
   "execution_count": null,
   "metadata": {},
   "outputs": [],
   "source": []
  },
  {
   "cell_type": "code",
   "execution_count": null,
   "metadata": {},
   "outputs": [],
   "source": []
  }
 ],
 "metadata": {
  "kernelspec": {
   "display_name": "Python 3",
   "language": "python",
   "name": "python3"
  },
  "language_info": {
   "codemirror_mode": {
    "name": "ipython",
    "version": 3
   },
   "file_extension": ".py",
   "mimetype": "text/x-python",
   "name": "python",
   "nbconvert_exporter": "python",
   "pygments_lexer": "ipython3",
   "version": "3.7.3"
  }
 },
 "nbformat": 4,
 "nbformat_minor": 2
}
