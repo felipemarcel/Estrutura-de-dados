{
 "cells": [
  {
   "cell_type": "code",
   "execution_count": 116,
   "metadata": {},
   "outputs": [],
   "source": [
    "# Definição da classe Node\n",
    "class Node:\n",
    "    \n",
    "    # Construtor\n",
    "    def __init__(self, info=None):\n",
    "        self.info = info\n",
    "    \n",
    "    # Impressão customizada\n",
    "    def __str__(self):\n",
    "        return \"{}\".format(self.info)\n",
    "    "
   ]
  },
  {
   "cell_type": "code",
   "execution_count": null,
   "metadata": {},
   "outputs": [],
   "source": [
    "class Bank:\n",
    "    \n",
    "    # Construtor\n",
    "    def __init__(self, accounts=None):\n",
    "        self.accounts = accounts\n",
    "        \n",
    "    def __str_(self):\n",
    "        return \"{}\".format(self.accounts)\n",
    "        "
   ]
  },
  {
   "cell_type": "code",
   "execution_count": null,
   "metadata": {},
   "outputs": [],
   "source": [
    "class Account:\n",
    "    # Construtor\n",
    "    def __init__(self, type=None, number=None, balance=0.0)\n",
    "    \n",
    "    \n",
    "    def withdraw(self):\n",
    "        pass\n",
    "    \n",
    "    def deposit(self):\n",
    "        pass\n",
    "    "
   ]
  },
  {
   "cell_type": "code",
   "execution_count": 117,
   "metadata": {},
   "outputs": [],
   "source": [
    "# Definição da classe List e suas funções\n",
    "class List:\n",
    "    \n",
    "    # Item 1\n",
    "    # Construtor para lista vazia\n",
    "    def __init__(self, head=None):\n",
    "        self.head = head\n",
    "\n",
    "    def __str__(self):\n",
    "        return \"{}\".format(self.head)\n",
    "    \n",
    "    # Item 2\n",
    "    # Inserção no início, head.\n",
    "    def insert(self, node):\n",
    "        print(\"head -> {}, Inserindo -> {}\".format(self.head, node))\n",
    "        current = self.head\n",
    "        previous = None\n",
    "        while current!= None and node.info > current.info:\n",
    "            previous = current\n",
    "            current = current.next\n",
    "        \n",
    "        if previous == None:\n",
    "            node.next = self.head\n",
    "            self.head = node\n",
    "        else:\n",
    "            node.next = previous.next\n",
    "            previous.next = node\n",
    "        \n",
    "    # Item 3\n",
    "    # Imprime todos os elementos utilizando um laço\n",
    "    def elements(self):\n",
    "        current = self.head\n",
    "        print(\"->{}\".format(current), end = '')\n",
    "        while current != None:\n",
    "            current = current.next\n",
    "            print(\"->{}\".format(current), end = '')\n",
    "    \n",
    "    # Item 4\n",
    "    # Imprime todos os elementos da lista de forma recursiva\n",
    "    def elements_rec(self, current):       \n",
    "        print(\"->{}\".format(current), end = '')\n",
    "        if current != None:\n",
    "            self.elements_rec(current.next)\n",
    "            \n",
    "    # Item 5\n",
    "    # Imprime todos os elementos da lista de forme recursiva e reversa\n",
    "    def elements_rec_reverse(self, current):\n",
    "        if current != None: \n",
    "            self.elements_rec_reverse(current.next)\n",
    "        print(\"->{}\".format(current), end = '')\n",
    "        \n",
    "    \n",
    "    # Item 6\n",
    "    # Verifica se a lista está vazia\n",
    "    # Verifica se a cabeça da lista é não nula, utilizando o operador ternário do python.\n",
    "    # sintaxe: (se_cond_false, se_cond_true)[cond]\n",
    "    # Se lista vazia, então not self.head = not None = true.\n",
    "    def is_empty(self):\n",
    "        return (0, 1)[not self.head]\n",
    "    \n",
    "        \n",
    "    # Item 7\n",
    "    # Busca\n",
    "    # Pequeno ajuste em relação a função de busca de uma lista encadeada simples que não leva em consideração a ordem,\n",
    "    # neste caso o ajuste refere-se a um critério de parada, se a busca chegar em um ponto que o valor comparador é maior\n",
    "    # que o valor buscado, a busca termina.\n",
    "    def search(self, node):\n",
    "        current = self.head\n",
    "        while current != None and current.info != node.info:\n",
    "            current = current.next\n",
    "        return current\n",
    "    \n",
    "    # Item 8\n",
    "    # Remoção\n",
    "    def remove(self, node):\n",
    "        current = self.head\n",
    "        previous = None\n",
    "\n",
    "        while current != None and current.info != node.info:\n",
    "            previous = current\n",
    "            current = current.next\n",
    "        if previous == None:\n",
    "            self.head = current.next\n",
    "        elif current.next == None:\n",
    "            previous.next = None\n",
    "        else:\n",
    "            previous.next = current.next\n",
    "            current.next = None\n",
    "            \n",
    "    # Item 9\n",
    "    # Remoção recursiva\n",
    "    \n",
    "    # Item 10\n",
    "    # Libera a lista, remove todos os elementos.\n",
    "    def free(self):\n",
    "        print(\"Removendo todos os elementos da lista\")\n",
    "        current = self.head\n",
    "        while current != None:\n",
    "            self.remove(current)\n",
    "            current = current.next \n",
    "    \n",
    "    # Item 11\n",
    "    # Verifica se duas listas são iguais\n",
    "    # Modificar nome de variáveis\n",
    "    def equals(self, list):\n",
    "        current = self.head\n",
    "        compared = list.head\n",
    "        while current != None and compared != None:\n",
    "            print(current)\n",
    "            print(compared)\n",
    "            if current.info != compared.info:\n",
    "                return 0;\n",
    "            current = current.next\n",
    "            compared = compared.next\n",
    "            \n",
    "        return current == compared\n",
    "    "
   ]
  },
  {
   "cell_type": "code",
   "execution_count": 118,
   "metadata": {},
   "outputs": [],
   "source": [
    "n1 = Node(15)\n",
    "n2 = Node(2)\n",
    "n3 = Node(4)\n",
    "n4 = Node(32)"
   ]
  },
  {
   "cell_type": "code",
   "execution_count": 119,
   "metadata": {},
   "outputs": [
    {
     "name": "stdout",
     "output_type": "stream",
     "text": [
      "Imprime lista vazia: None\n"
     ]
    }
   ],
   "source": [
    "# Item 1\n",
    "# Criação da lista vazia\n",
    "l = List()\n",
    "\n",
    "# Imprime lista vazia, recém criada -> None\n",
    "print(\"Imprime lista vazia: \", end = '')\n",
    "print(l)"
   ]
  },
  {
   "cell_type": "code",
   "execution_count": 120,
   "metadata": {},
   "outputs": [
    {
     "name": "stdout",
     "output_type": "stream",
     "text": [
      "head -> None, Inserindo -> 15\n",
      "head -> 15, Inserindo -> 2\n",
      "head -> 2, Inserindo -> 4\n",
      "head -> 2, Inserindo -> 32\n"
     ]
    }
   ],
   "source": [
    "# Item 2\n",
    "# Adiciona os nós 15, 2, 4 e 32 na lista de maneira ordenada.\n",
    "l.insert(n1)\n",
    "l.insert(n2)\n",
    "l.insert(n3)\n",
    "l.insert(n4)"
   ]
  },
  {
   "cell_type": "code",
   "execution_count": 121,
   "metadata": {},
   "outputs": [
    {
     "name": "stdout",
     "output_type": "stream",
     "text": [
      "Mostra todos os elementos inseridos na lista: head->2->4->15->32->None"
     ]
    }
   ],
   "source": [
    "# Item 3\n",
    "# Imprime os elementos da lista em ordem -> 2,4,15, 32\n",
    "print(\"Mostra todos os elementos inseridos na lista: head\", end = '')\n",
    "l.elements()"
   ]
  },
  {
   "cell_type": "code",
   "execution_count": 122,
   "metadata": {},
   "outputs": [
    {
     "name": "stdout",
     "output_type": "stream",
     "text": [
      "->2->4->15->32->None"
     ]
    }
   ],
   "source": [
    "# Item 4\n",
    "# Imprime os elementos da lista através de recursão, saída deve ser a mesma do item 3.\n",
    "l.elements_rec(l.head)"
   ]
  },
  {
   "cell_type": "code",
   "execution_count": 123,
   "metadata": {},
   "outputs": [
    {
     "name": "stdout",
     "output_type": "stream",
     "text": [
      "->None->32->15->4->2"
     ]
    }
   ],
   "source": [
    "# Item 5\n",
    "# Imprime os elementos da lista através de recursão. -> None, 15,2,4,32\n",
    "l.elements_rec_reverse(l.head)"
   ]
  },
  {
   "cell_type": "code",
   "execution_count": 124,
   "metadata": {},
   "outputs": [
    {
     "name": "stdout",
     "output_type": "stream",
     "text": [
      "Retorno -> 0. A lista em questão não está vazia.\n",
      "Retorno -> 1. A lista em questão está vazia.\n"
     ]
    }
   ],
   "source": [
    "# Item 6 \n",
    "# Verifica se uma lista está vazia, se tiver retorna 1, se não retorna 0\n",
    "empty_list = List()\n",
    "\n",
    "print(\"Retorno -> {}. A lista em questão não está vazia.\".format(l.is_empty()))\n",
    "print(\"Retorno -> {}. A lista em questão está vazia.\".format(empty_list.is_empty()))"
   ]
  },
  {
   "cell_type": "code",
   "execution_count": 125,
   "metadata": {},
   "outputs": [
    {
     "name": "stdout",
     "output_type": "stream",
     "text": [
      "2\n",
      "None\n"
     ]
    }
   ],
   "source": [
    "# Item 7\n",
    "# Recupera um elemento da lista, retornando o campo info se ela existir, ou None se não existir.\n",
    "print(l.search(Node(2)))\n",
    "print(l.search(Node(10)))"
   ]
  },
  {
   "cell_type": "code",
   "execution_count": 94,
   "metadata": {},
   "outputs": [
    {
     "name": "stdout",
     "output_type": "stream",
     "text": [
      "Mostra todos os elementos inseridos na lista: head->2->4->15->32->None\n",
      "Mostra todos os elementos inseridos na lista: head->2->4->15->None"
     ]
    }
   ],
   "source": [
    "# Item 8\n",
    "# Imprime a lista antes da remoção\n",
    "print(\"Mostra todos os elementos inseridos na lista: head\", end = '')\n",
    "l.elements()\n",
    "print()\n",
    "\n",
    "# Remove elemento head: 32.\n",
    "l.remove(n4)\n",
    "\n",
    "# Imprime os elementos da lista após remoção-> 4,2,15\n",
    "print(\"Mostra todos os elementos inseridos na lista: head\", end = '')\n",
    "l.elements()"
   ]
  },
  {
   "cell_type": "code",
   "execution_count": 95,
   "metadata": {},
   "outputs": [
    {
     "name": "stdout",
     "output_type": "stream",
     "text": [
      "->2->4->15->None\n",
      "Removendo todos os elementos da lista\n",
      "->None"
     ]
    }
   ],
   "source": [
    "# Item 10 \n",
    "# Libera a lista, isto é, remove todos os elementos da lista.\n",
    "l.elements()\n",
    "print()\n",
    "l.free()\n",
    "l.elements()"
   ]
  },
  {
   "cell_type": "code",
   "execution_count": 96,
   "metadata": {},
   "outputs": [],
   "source": [
    "# Item 11\n",
    "\n",
    "n1 = Node(15)\n",
    "n2 = Node(2)\n",
    "n3 = Node(4)\n",
    "n4 = Node(32)\n",
    "\n",
    "n5 = Node(33)\n",
    "n6 = Node(13)"
   ]
  },
  {
   "cell_type": "code",
   "execution_count": 114,
   "metadata": {},
   "outputs": [
    {
     "name": "stdout",
     "output_type": "stream",
     "text": [
      "Imprime lista vazia: None\n",
      "\n",
      "******Lista 1*****\n",
      "\n",
      "head -> None, Inserindo -> 15\n",
      "head -> 15, Inserindo -> 2\n",
      "head -> 2, Inserindo -> 4\n",
      "head -> 2, Inserindo -> 32\n",
      "Mostra todos os elementos inseridos na lista: head->2->4->15->32->None\n",
      "Imprime lista vazia: None\n",
      "Lista 2\n",
      "Verificando se as listas são iguais\n",
      "head -> None, Inserindo -> 2\n",
      "head -> 2, Inserindo -> 13\n",
      "head -> 2, Inserindo -> 32\n",
      "head -> 2, Inserindo -> 4\n",
      "Mostra todos os elementos inseridos na lista: head->2->4->13->32->None\n",
      "2\n",
      "2\n",
      "4\n",
      "4\n",
      "13\n",
      "13\n",
      "32\n",
      "32\n"
     ]
    },
    {
     "data": {
      "text/plain": [
       "True"
      ]
     },
     "execution_count": 114,
     "metadata": {},
     "output_type": "execute_result"
    }
   ],
   "source": [
    "# Verifica se duas listas são iguais\n",
    "# Criação da lista vazia\n",
    "l = List()\n",
    "l1 = List()\n",
    "\n",
    "# Imprime lista vazia, recém criada -> None\n",
    "print(\"Imprime lista vazia: \", end = '')\n",
    "print(l)\n",
    "\n",
    "print(\"\\n******Lista 1*****\\n\")\n",
    "l.insert(n1)\n",
    "l.insert(n2)\n",
    "l.insert(n3)\n",
    "l.insert(n4)\n",
    "print(\"Mostra todos os elementos inseridos na lista: head\", end = '')\n",
    "l.elements()\n",
    "\n",
    "print()\n",
    "print(\"Imprime lista vazia: \", end = '')\n",
    "print(l1)\n",
    "print(\"Lista 2\")\n",
    "print(\"Verificando se as listas são iguais\")\n",
    "l1.insert(n2)\n",
    "l1.insert(n6)\n",
    "l1.insert(n4)\n",
    "l1.insert(n3)\n",
    "print(\"Mostra todos os elementos inseridos na lista: head\", end = '')\n",
    "l1.elements()\n",
    "print()\n",
    "l.equals(list1 = l1, list2=l)\n"
   ]
  },
  {
   "cell_type": "code",
   "execution_count": null,
   "metadata": {},
   "outputs": [],
   "source": []
  },
  {
   "cell_type": "code",
   "execution_count": null,
   "metadata": {},
   "outputs": [],
   "source": []
  },
  {
   "cell_type": "code",
   "execution_count": null,
   "metadata": {},
   "outputs": [],
   "source": []
  }
 ],
 "metadata": {
  "kernelspec": {
   "display_name": "Python 3",
   "language": "python",
   "name": "python3"
  },
  "language_info": {
   "codemirror_mode": {
    "name": "ipython",
    "version": 3
   },
   "file_extension": ".py",
   "mimetype": "text/x-python",
   "name": "python",
   "nbconvert_exporter": "python",
   "pygments_lexer": "ipython3",
   "version": "3.7.3"
  }
 },
 "nbformat": 4,
 "nbformat_minor": 2
}
