{
 "cells": [
  {
   "cell_type": "code",
   "execution_count": 18,
   "metadata": {},
   "outputs": [],
   "source": [
    "# Definição da classe Node\n",
    "class Node:\n",
    "    \n",
    "    # Construtor\n",
    "    def __init__(self, number=None):\n",
    "        self.number = number\n",
    "    \n",
    "    # Impressão customizada\n",
    "    def __str__(self):\n",
    "        return \"{}\".format(self.number)\n",
    "    "
   ]
  },
  {
   "cell_type": "code",
   "execution_count": 19,
   "metadata": {},
   "outputs": [],
   "source": [
    "class Bank:\n",
    "    \n",
    "    # Construtor\n",
    "    def __init__(self, accounts=None):\n",
    "        self.accounts = List()\n",
    "        \n",
    "    def __str_(self):\n",
    "        return \"{}\".format(self.accounts)\n",
    "        "
   ]
  },
  {
   "cell_type": "code",
   "execution_count": 153,
   "metadata": {},
   "outputs": [],
   "source": [
    "class Account:\n",
    "    # Construtor\n",
    "    number = 0\n",
    "    def __init__(self, type=\"bank_account\", number=None, balance=0.00, bonus = 0.00):\n",
    "        Account.number +=1\n",
    "        self.number=  Account.number\n",
    "        self.balance = balance\n",
    "        self.type = type\n",
    "        self.bonus = bonus\n",
    "        \n",
    "    def __str__(self):\n",
    "        return \"Tipo de conta: {}. Saldo: {}. Número da conta: {}\".format(self.type, self.balance, self.number)\n",
    "    \n",
    "    def withdraw(self, amount):\n",
    "        print(\"-- Conta {} --\".format(self.number))\n",
    "        if self.balance - amount >= 0.0 :\n",
    "            print(\"Saldo atual {}\".format(self.balance))\n",
    "            self.balance = self.balance - amount\n",
    "            print(\"Efetuando uma operação de saque de {}\".format(amount))\n",
    "            print(\"Saldo após saque {}\".format(self.balance))\n",
    "        else:\n",
    "            print(\"Não possui saldo suficiente.\")\n",
    "    def deposit(self, amount):\n",
    "        print(\"-- Conta {} --\".format(self.number))\n",
    "        print(\"Saldo atual {}\".format(self.balance))\n",
    "        self.balance = self.balance + amount\n",
    "        if self.type == \"loyalty_account\":\n",
    "            self.evaluate_bonus(amount)\n",
    "        print(\"Efetuando uma operação de depósito de {}\".format(amount))\n",
    "        print(\"Saldo após depósito {}\".format(self.balance))\n",
    "        \n",
    "    def profit(self):\n",
    "        self.balance = self.balance * 1.005\n",
    "        \n",
    "    def evaluate_bonus(self, amount):\n",
    "        self.bonus = self.bonus + amount * 0.01\n",
    "        \n",
    "    def render_bonus(self):\n",
    "        self.balance = self.balance + self.bonus\n",
    "        self.bonus = 0.0\n",
    "        \n",
    "    def extract(self):\n",
    "        return \"Saldo disponível -> {}\".format(self.balance)\n",
    "    \n",
    "    def get_bonus(self):\n",
    "        return \"O saldo de bônus é igual a -> {}\".format(self.bonus)\n",
    "    \n",
    "    def transfer(self, amount, to):\n",
    "        if self.balance > amount:\n",
    "            self.withdraw(amount)\n",
    "            to.deposit(amount)\n",
    "        else:\n",
    "            print(\"Não possui saldo suficiente.\")"
   ]
  },
  {
   "cell_type": "code",
   "execution_count": 244,
   "metadata": {},
   "outputs": [],
   "source": [
    "# Definição da classe List e suas funções\n",
    "class List:\n",
    "    \n",
    "    # Item 1\n",
    "    # Construtor para lista vazia\n",
    "    def __init__(self, head=None):\n",
    "        self.head = head\n",
    "\n",
    "    def __str__(self):\n",
    "        return \"{}\".format(self.head)\n",
    "    \n",
    "    # Item 2\n",
    "    # Inserção no início, head.\n",
    "    def insert(self, node):\n",
    "        print(\"head -> {}, Inserindo -> {}\".format(self.head, node))\n",
    "        current = self.head\n",
    "        previous = None\n",
    "        while current!= None and node.number > current.number:\n",
    "            previous = current\n",
    "            current = current.next\n",
    "        \n",
    "        if previous == None:\n",
    "            node.next = self.head\n",
    "            self.head = node\n",
    "        else:\n",
    "            node.next = previous.next\n",
    "            previous.next = node\n",
    "        \n",
    "    # Item 3\n",
    "    # Imprime todos os elementos utilizando um laço\n",
    "    def elements(self):\n",
    "        current = self.head\n",
    "        print(\"->{}\".format(current), end = '')\n",
    "        while current != None:\n",
    "            current = current.next\n",
    "            print(\"->{}\".format(current), end = '')\n",
    "    \n",
    "    # Item 4\n",
    "    # Imprime todos os elementos da lista de forma recursiva\n",
    "    def elements_rec(self, current):       \n",
    "        print(\"->{}\".format(current), end = '')\n",
    "        if current != None:\n",
    "            self.elements_rec(current.next)\n",
    "            \n",
    "    # Item 5\n",
    "    # Imprime todos os elementos da lista de forme recursiva e reversa\n",
    "    def elements_rec_reverse(self, current):\n",
    "        if current != None: \n",
    "            self.elements_rec_reverse(current.next)\n",
    "        print(\"->{}\".format(current), end = '')\n",
    "        \n",
    "    \n",
    "    # Item 6\n",
    "    # Verifica se a lista está vazia\n",
    "    # Verifica se a cabeça da lista é não nula, utilizando o operador ternário do python.\n",
    "    # sintaxe: (se_cond_false, se_cond_true)[cond]\n",
    "    # Se lista vazia, então not self.head = not None = true.\n",
    "    def is_empty(self):\n",
    "        return (0, 1)[not self.head]\n",
    "    \n",
    "        \n",
    "    # Item 7\n",
    "    # Busca\n",
    "    # Pequeno ajuste em relação a função de busca de uma lista encadeada simples que não leva em consideração a ordem,\n",
    "    # neste caso o ajuste refere-se a um critério de parada, se a busca chegar em um ponto que o valor comparador é maior\n",
    "    # que o valor buscado, a busca termina.\n",
    "    def search(self, node):\n",
    "        current = self.head\n",
    "        while current != None and current.number != node.number:\n",
    "            current = current.next\n",
    "        return current\n",
    "    \n",
    "    # Item 8\n",
    "    # Remoção\n",
    "    def remove(self, node):\n",
    "        current = self.head\n",
    "        previous = None\n",
    "\n",
    "        while current != None and current.number != node.number:\n",
    "            previous = current\n",
    "            current = current.next\n",
    "        if previous == None:\n",
    "            self.head = current.next\n",
    "        elif current.next == None:\n",
    "            previous.next = None\n",
    "        else:\n",
    "            previous.next = current.next\n",
    "            current.next = None\n",
    "            \n",
    "    # Item 9\n",
    "    # Remoção recursiva\n",
    "    \n",
    "    # Item 10\n",
    "    # Libera a lista, remove todos os elementos.\n",
    "    def free(self):\n",
    "        print(\"Removendo todos os elementos da lista\")\n",
    "        current = self.head\n",
    "        while current != None:\n",
    "            self.remove(current)\n",
    "            current = current.next \n",
    "    \n",
    "    # Item 11\n",
    "    # Verifica se duas listas são iguais\n",
    "    # Modificar nome de variáveis\n",
    "    def equals(self, list):\n",
    "        current = self.head\n",
    "        compared = list.head\n",
    "        while current != None and compared != None:\n",
    "            print(current)\n",
    "            print(compared)\n",
    "            if current.number != compared.number:\n",
    "                return 0;\n",
    "            current = current.next\n",
    "            compared = compared.next\n",
    "            \n",
    "        return current == compared\n",
    "    \n",
    "    # Item 1.12\n",
    "    # Imprime o número de contas\n",
    "    def accounts(self):\n",
    "        current = self.head\n",
    "        while current != None:\n",
    "            print(current)\n",
    "            current = current.next"
   ]
  },
  {
   "cell_type": "code",
   "execution_count": 245,
   "metadata": {},
   "outputs": [],
   "source": [
    "n1 = Node(15)\n",
    "n2 = Node(2)\n",
    "n3 = Node(4)\n",
    "n4 = Node(32)"
   ]
  },
  {
   "cell_type": "code",
   "execution_count": 246,
   "metadata": {},
   "outputs": [
    {
     "name": "stdout",
     "output_type": "stream",
     "text": [
      "Imprime lista vazia: None\n"
     ]
    }
   ],
   "source": [
    "# Item 1\n",
    "# Criação da lista vazia\n",
    "l = List()\n",
    "\n",
    "# Imprime lista vazia, recém criada -> None\n",
    "print(\"Imprime lista vazia: \", end = '')\n",
    "print(l)"
   ]
  },
  {
   "cell_type": "code",
   "execution_count": 247,
   "metadata": {},
   "outputs": [
    {
     "name": "stdout",
     "output_type": "stream",
     "text": [
      "head -> None, Inserindo -> 15\n",
      "head -> 15, Inserindo -> 2\n",
      "head -> 2, Inserindo -> 4\n",
      "head -> 2, Inserindo -> 32\n"
     ]
    }
   ],
   "source": [
    "# Item 2\n",
    "# Adiciona os nós 15, 2, 4 e 32 na lista de maneira ordenada.\n",
    "l.insert(n1)\n",
    "l.insert(n2)\n",
    "l.insert(n3)\n",
    "l.insert(n4)"
   ]
  },
  {
   "cell_type": "code",
   "execution_count": 248,
   "metadata": {},
   "outputs": [
    {
     "name": "stdout",
     "output_type": "stream",
     "text": [
      "Mostra todos os elementos inseridos na lista: head->2->4->15->32->None"
     ]
    }
   ],
   "source": [
    "# Item 3\n",
    "# Imprime os elementos da lista em ordem -> 2,4,15, 32\n",
    "print(\"Mostra todos os elementos inseridos na lista: head\", end = '')\n",
    "l.elements()"
   ]
  },
  {
   "cell_type": "code",
   "execution_count": 249,
   "metadata": {},
   "outputs": [
    {
     "name": "stdout",
     "output_type": "stream",
     "text": [
      "->2->4->15->32->None"
     ]
    }
   ],
   "source": [
    "# Item 4\n",
    "# Imprime os elementos da lista através de recursão, saída deve ser a mesma do item 3.\n",
    "l.elements_rec(l.head)"
   ]
  },
  {
   "cell_type": "code",
   "execution_count": 250,
   "metadata": {},
   "outputs": [
    {
     "name": "stdout",
     "output_type": "stream",
     "text": [
      "->None->32->15->4->2"
     ]
    }
   ],
   "source": [
    "# Item 5\n",
    "# Imprime os elementos da lista através de recursão. -> None, 15,2,4,32\n",
    "l.elements_rec_reverse(l.head)"
   ]
  },
  {
   "cell_type": "code",
   "execution_count": 251,
   "metadata": {},
   "outputs": [
    {
     "name": "stdout",
     "output_type": "stream",
     "text": [
      "Retorno -> 0. A lista em questão não está vazia.\n",
      "Retorno -> 1. A lista em questão está vazia.\n"
     ]
    }
   ],
   "source": [
    "# Item 6 \n",
    "# Verifica se uma lista está vazia, se tiver retorna 1, se não retorna 0\n",
    "empty_list = List()\n",
    "\n",
    "print(\"Retorno -> {}. A lista em questão não está vazia.\".format(l.is_empty()))\n",
    "print(\"Retorno -> {}. A lista em questão está vazia.\".format(empty_list.is_empty()))"
   ]
  },
  {
   "cell_type": "code",
   "execution_count": 252,
   "metadata": {},
   "outputs": [
    {
     "name": "stdout",
     "output_type": "stream",
     "text": [
      "2\n",
      "None\n"
     ]
    }
   ],
   "source": [
    "# Item 7\n",
    "# Recupera um elemento da lista, retornando o campo info se ela existir, ou None se não existir.\n",
    "print(l.search(Node(2)))\n",
    "print(l.search(Node(10)))"
   ]
  },
  {
   "cell_type": "code",
   "execution_count": 253,
   "metadata": {},
   "outputs": [
    {
     "name": "stdout",
     "output_type": "stream",
     "text": [
      "Mostra todos os elementos inseridos na lista: head->2->4->15->32->None\n",
      "Mostra todos os elementos inseridos na lista: head->2->4->15->None"
     ]
    }
   ],
   "source": [
    "# Item 8\n",
    "# Imprime a lista antes da remoção\n",
    "print(\"Mostra todos os elementos inseridos na lista: head\", end = '')\n",
    "l.elements()\n",
    "print()\n",
    "\n",
    "# Remove elemento head: 32.\n",
    "l.remove(n4)\n",
    "\n",
    "# Imprime os elementos da lista após remoção-> 4,2,15\n",
    "print(\"Mostra todos os elementos inseridos na lista: head\", end = '')\n",
    "l.elements()"
   ]
  },
  {
   "cell_type": "code",
   "execution_count": 254,
   "metadata": {},
   "outputs": [
    {
     "name": "stdout",
     "output_type": "stream",
     "text": [
      "->2->4->15->None\n",
      "Removendo todos os elementos da lista\n",
      "->None"
     ]
    }
   ],
   "source": [
    "# Item 10 \n",
    "# Libera a lista, isto é, remove todos os elementos da lista.\n",
    "l.elements()\n",
    "print()\n",
    "l.free()\n",
    "l.elements()"
   ]
  },
  {
   "cell_type": "code",
   "execution_count": 255,
   "metadata": {},
   "outputs": [],
   "source": [
    "# Item 11\n",
    "\n",
    "n1 = Node(15)\n",
    "n2 = Node(2)\n",
    "n3 = Node(4)\n",
    "n4 = Node(32)\n",
    "\n",
    "n5 = Node(33)\n",
    "n6 = Node(13)"
   ]
  },
  {
   "cell_type": "code",
   "execution_count": 256,
   "metadata": {},
   "outputs": [
    {
     "name": "stdout",
     "output_type": "stream",
     "text": [
      "Imprime lista vazia: None\n",
      "\n",
      "******Lista 1*****\n",
      "\n",
      "head -> None, Inserindo -> 15\n",
      "head -> 15, Inserindo -> 2\n",
      "head -> 2, Inserindo -> 4\n",
      "head -> 2, Inserindo -> 32\n",
      "Mostra todos os elementos inseridos na lista: head->2->4->15->32->None\n",
      "Imprime lista vazia: None\n",
      "Lista 2\n",
      "Verificando se as listas são iguais\n",
      "head -> None, Inserindo -> 2\n",
      "head -> 2, Inserindo -> 13\n",
      "head -> 2, Inserindo -> 32\n",
      "head -> 2, Inserindo -> 4\n",
      "Mostra todos os elementos inseridos na lista: head->2->4->13->32->None\n"
     ]
    },
    {
     "ename": "TypeError",
     "evalue": "equals() got an unexpected keyword argument 'list1'",
     "output_type": "error",
     "traceback": [
      "\u001b[1;31m---------------------------------------------------------------------------\u001b[0m",
      "\u001b[1;31mTypeError\u001b[0m                                 Traceback (most recent call last)",
      "\u001b[1;32m<ipython-input-256-2322a65455e2>\u001b[0m in \u001b[0;36m<module>\u001b[1;34m\u001b[0m\n\u001b[0;32m     28\u001b[0m \u001b[0ml1\u001b[0m\u001b[1;33m.\u001b[0m\u001b[0melements\u001b[0m\u001b[1;33m(\u001b[0m\u001b[1;33m)\u001b[0m\u001b[1;33m\u001b[0m\u001b[1;33m\u001b[0m\u001b[0m\n\u001b[0;32m     29\u001b[0m \u001b[0mprint\u001b[0m\u001b[1;33m(\u001b[0m\u001b[1;33m)\u001b[0m\u001b[1;33m\u001b[0m\u001b[1;33m\u001b[0m\u001b[0m\n\u001b[1;32m---> 30\u001b[1;33m \u001b[0ml\u001b[0m\u001b[1;33m.\u001b[0m\u001b[0mequals\u001b[0m\u001b[1;33m(\u001b[0m\u001b[0mlist1\u001b[0m \u001b[1;33m=\u001b[0m \u001b[0ml1\u001b[0m\u001b[1;33m,\u001b[0m \u001b[0mlist2\u001b[0m\u001b[1;33m=\u001b[0m\u001b[0ml\u001b[0m\u001b[1;33m)\u001b[0m\u001b[1;33m\u001b[0m\u001b[1;33m\u001b[0m\u001b[0m\n\u001b[0m",
      "\u001b[1;31mTypeError\u001b[0m: equals() got an unexpected keyword argument 'list1'"
     ]
    }
   ],
   "source": [
    "# Verifica se duas listas são iguais\n",
    "# Criação da lista vazia\n",
    "l = List()\n",
    "l1 = List()\n",
    "\n",
    "# Imprime lista vazia, recém criada -> None\n",
    "print(\"Imprime lista vazia: \", end = '')\n",
    "print(l)\n",
    "\n",
    "print(\"\\n******Lista 1*****\\n\")\n",
    "l.insert(n1)\n",
    "l.insert(n2)\n",
    "l.insert(n3)\n",
    "l.insert(n4)\n",
    "print(\"Mostra todos os elementos inseridos na lista: head\", end = '')\n",
    "l.elements()\n",
    "\n",
    "print()\n",
    "print(\"Imprime lista vazia: \", end = '')\n",
    "print(l1)\n",
    "print(\"Lista 2\")\n",
    "print(\"Verificando se as listas são iguais\")\n",
    "l1.insert(n2)\n",
    "l1.insert(n6)\n",
    "l1.insert(n4)\n",
    "l1.insert(n3)\n",
    "print(\"Mostra todos os elementos inseridos na lista: head\", end = '')\n",
    "l1.elements()\n",
    "print()\n",
    "l.equals(list1 = l1, list2=l)\n"
   ]
  },
  {
   "cell_type": "code",
   "execution_count": 257,
   "metadata": {},
   "outputs": [],
   "source": [
    "# Criando uma lista de bancos\n",
    "bank = Bank()"
   ]
  },
  {
   "cell_type": "code",
   "execution_count": 258,
   "metadata": {},
   "outputs": [
    {
     "name": "stdout",
     "output_type": "stream",
     "text": [
      "Tipo de conta: bank_account. Saldo: 0.0. Número da conta: 10\n"
     ]
    }
   ],
   "source": [
    "# Item 1.1\n",
    "# Inserir uma conta bancária\n",
    "bank_account = Account()\n",
    "print(bank_account)"
   ]
  },
  {
   "cell_type": "code",
   "execution_count": 259,
   "metadata": {},
   "outputs": [
    {
     "name": "stdout",
     "output_type": "stream",
     "text": [
      "Tipo de conta: saving_account. Saldo: 0.0. Número da conta: 11\n"
     ]
    }
   ],
   "source": [
    "# Item 1.2\n",
    "# Inserir uma conta poupança\n",
    "saving_account = Account(type=\"saving_account\")\n",
    "print(saving_account)"
   ]
  },
  {
   "cell_type": "code",
   "execution_count": 260,
   "metadata": {},
   "outputs": [
    {
     "name": "stdout",
     "output_type": "stream",
     "text": [
      "Tipo de conta: loyalty_account. Saldo: 0.0. Número da conta: 12\n"
     ]
    }
   ],
   "source": [
    "# Item 1.3\n",
    "# Inserir uma conta fidelidade\n",
    "loyalty_account = Account(type=\"loyalty_account\")\n",
    "print(loyalty_account)"
   ]
  },
  {
   "cell_type": "code",
   "execution_count": 261,
   "metadata": {},
   "outputs": [
    {
     "name": "stdout",
     "output_type": "stream",
     "text": [
      "head -> None, Inserindo -> Tipo de conta: bank_account. Saldo: 0.0. Número da conta: 10\n",
      "head -> Tipo de conta: bank_account. Saldo: 0.0. Número da conta: 10, Inserindo -> Tipo de conta: saving_account. Saldo: 0.0. Número da conta: 11\n",
      "head -> Tipo de conta: bank_account. Saldo: 0.0. Número da conta: 10, Inserindo -> Tipo de conta: loyalty_account. Saldo: 0.0. Número da conta: 12\n"
     ]
    }
   ],
   "source": [
    "bank.accounts.insert(bank_account)\n",
    "bank.accounts.insert(saving_account)\n",
    "bank.accounts.insert(loyalty_account)"
   ]
  },
  {
   "cell_type": "code",
   "execution_count": 262,
   "metadata": {},
   "outputs": [
    {
     "name": "stdout",
     "output_type": "stream",
     "text": [
      "--------------\n",
      "-- Conta 10 --\n",
      "Saldo atual 0.0\n",
      "Efetuando uma operação de depósito de 300.0\n",
      "Saldo após depósito 300.0\n",
      "--------------\n",
      "-- Conta 10 --\n",
      "Saldo atual 300.0\n",
      "Efetuando uma operação de depósito de 15.0\n",
      "Saldo após depósito 315.0\n",
      "--------------\n",
      "-- Conta 11 --\n",
      "Saldo atual 0.0\n",
      "Efetuando uma operação de depósito de 235.0\n",
      "Saldo após depósito 235.0\n",
      "--------------\n",
      "-- Conta 12 --\n",
      "Saldo atual 0.0\n",
      "Efetuando uma operação de depósito de 135.0\n",
      "Saldo após depósito 135.0\n",
      "--------------\n"
     ]
    }
   ],
   "source": [
    "# Item 1.4\n",
    "# Realizar crédito em alguma conta\n",
    "print(\"--------------\")\n",
    "bank_account.deposit(300.00)\n",
    "print(\"--------------\")\n",
    "bank_account.deposit(15.00)\n",
    "print(\"--------------\")\n",
    "saving_account.deposit(235.00)\n",
    "print(\"--------------\")\n",
    "loyalty_account.deposit(135.00)\n",
    "print(\"--------------\")"
   ]
  },
  {
   "cell_type": "code",
   "execution_count": 263,
   "metadata": {},
   "outputs": [
    {
     "name": "stdout",
     "output_type": "stream",
     "text": [
      "--------------\n",
      "-- Conta 10 --\n",
      "Saldo atual 315.0\n",
      "Efetuando uma operação de saque de 10.0\n",
      "Saldo após saque 305.0\n",
      "--------------\n",
      "-- Conta 11 --\n",
      "Saldo atual 235.0\n",
      "Efetuando uma operação de saque de 35.0\n",
      "Saldo após saque 200.0\n",
      "--------------\n",
      "-- Conta 12 --\n",
      "Saldo atual 135.0\n",
      "Efetuando uma operação de saque de 40.0\n",
      "Saldo após saque 95.0\n",
      "--------------\n"
     ]
    }
   ],
   "source": [
    "# Item 1.5\n",
    "# Realizar débito em alguma conta\n",
    "# Realizar crédito em alguma conta\n",
    "print(\"--------------\")\n",
    "bank_account.withdraw(10.00)\n",
    "print(\"--------------\")\n",
    "saving_account.withdraw(35.00)\n",
    "print(\"--------------\")\n",
    "loyalty_account.withdraw(40.00)\n",
    "print(\"--------------\")"
   ]
  },
  {
   "cell_type": "code",
   "execution_count": 264,
   "metadata": {},
   "outputs": [
    {
     "data": {
      "text/plain": [
       "'Saldo disponível -> 305.0'"
      ]
     },
     "execution_count": 264,
     "metadata": {},
     "output_type": "execute_result"
    }
   ],
   "source": [
    "# Item 1.6\n",
    "# Consultar saldo de uma conta\n",
    "bank_account.extract()"
   ]
  },
  {
   "cell_type": "code",
   "execution_count": 265,
   "metadata": {},
   "outputs": [
    {
     "data": {
      "text/plain": [
       "'O saldo de bônus é igual a -> 1.35'"
      ]
     },
     "execution_count": 265,
     "metadata": {},
     "output_type": "execute_result"
    }
   ],
   "source": [
    "# Item 1.7\n",
    "# Consultar bônus de conta fidelidade\n",
    "loyalty_account.get_bonus()"
   ]
  },
  {
   "cell_type": "code",
   "execution_count": 266,
   "metadata": {},
   "outputs": [
    {
     "name": "stdout",
     "output_type": "stream",
     "text": [
      "-- Conta 12 --\n",
      "Saldo atual 95.0\n",
      "Efetuando uma operação de saque de 32.0\n",
      "Saldo após saque 63.0\n",
      "-- Conta 10 --\n",
      "Saldo atual 305.0\n",
      "Efetuando uma operação de depósito de 32.0\n",
      "Saldo após depósito 337.0\n"
     ]
    }
   ],
   "source": [
    "# Item 1.8\n",
    "# Realizar uma transferência entre duas contas;\n",
    "loyalty_account.transfer(32.00, bank_account)"
   ]
  },
  {
   "cell_type": "code",
   "execution_count": 267,
   "metadata": {},
   "outputs": [
    {
     "name": "stdout",
     "output_type": "stream",
     "text": [
      "200.0\n",
      "200.99999999999997\n"
     ]
    }
   ],
   "source": [
    "# Item 1.9\n",
    "# Render juros de uma conta poupança;\n",
    "print(saving_account.balance)\n",
    "saving_account.profit()\n",
    "print(saving_account.balance)"
   ]
  },
  {
   "cell_type": "code",
   "execution_count": 268,
   "metadata": {},
   "outputs": [
    {
     "name": "stdout",
     "output_type": "stream",
     "text": [
      "Valor do bônus -> 1.35\n",
      "Saldo atual -> 63.0\n",
      "Saldo após o bonus -> 64.35\n",
      "Valor do bônus -> 0.0\n"
     ]
    }
   ],
   "source": [
    "# Item 1.10\n",
    "# Render bônus de uma conta fidelidade;\n",
    "print(\"Valor do bônus -> {}\".format(loyalty_account.bonus))\n",
    "print(\"Saldo atual -> {}\".format(loyalty_account.balance))\n",
    "loyalty_account.render_bonus()\n",
    "print(\"Saldo após o bonus -> {}\".format(loyalty_account.balance))\n",
    "print(\"Valor do bônus -> {}\".format(loyalty_account.bonus))\n"
   ]
  },
  {
   "cell_type": "code",
   "execution_count": 269,
   "metadata": {},
   "outputs": [],
   "source": [
    "# Item 1.11\n",
    "# Remover uma conta;\n",
    "bank.accounts.remove(bank_account)"
   ]
  },
  {
   "cell_type": "code",
   "execution_count": 270,
   "metadata": {},
   "outputs": [
    {
     "name": "stdout",
     "output_type": "stream",
     "text": [
      "Tipo de conta: saving_account. Saldo: 200.99999999999997. Número da conta: 11\n",
      "Tipo de conta: loyalty_account. Saldo: 64.35. Número da conta: 12\n"
     ]
    }
   ],
   "source": [
    "# Item 1.12\n",
    "# Imprimir número e saldo de todas as contas cadastradas;\n",
    "bank.accounts.accounts()"
   ]
  },
  {
   "cell_type": "code",
   "execution_count": null,
   "metadata": {},
   "outputs": [],
   "source": []
  },
  {
   "cell_type": "code",
   "execution_count": null,
   "metadata": {},
   "outputs": [],
   "source": []
  },
  {
   "cell_type": "code",
   "execution_count": null,
   "metadata": {},
   "outputs": [],
   "source": []
  },
  {
   "cell_type": "code",
   "execution_count": null,
   "metadata": {},
   "outputs": [],
   "source": []
  },
  {
   "cell_type": "code",
   "execution_count": null,
   "metadata": {},
   "outputs": [],
   "source": []
  }
 ],
 "metadata": {
  "kernelspec": {
   "display_name": "Python 3",
   "language": "python",
   "name": "python3"
  }
 },
 "nbformat": 4,
 "nbformat_minor": 2
}
