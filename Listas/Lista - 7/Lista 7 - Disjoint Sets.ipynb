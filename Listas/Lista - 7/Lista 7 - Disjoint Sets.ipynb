{
 "cells": [
  {
   "cell_type": "code",
   "execution_count": 233,
   "metadata": {},
   "outputs": [],
   "source": [
    "class DSNode:\n",
    "    def __init__(self, x, parent):\n",
    "        self.node = x\n",
    "        self.parent = parent\n",
    "        self.rank = 0\n",
    "        \n",
    "    def __str__(self):\n",
    "        return \"[{} -> {}, rank = {}]\".format(self.parent, self.node, self.rank)\n",
    "         "
   ]
  },
  {
   "cell_type": "code",
   "execution_count": 259,
   "metadata": {},
   "outputs": [],
   "source": [
    "class DisjointSet:\n",
    "        \n",
    "    def make_set(self, x):\n",
    "        return DSNode(x, None)\n",
    "    \n",
    "    def union(self, ds_node_1, ds_node_2):\n",
    "        if ds_node_1.rank > ds_node_2.rank:\n",
    "            ds_node_1.parent = ds_node_2\n",
    "        elif ds_node_1.rank > ds_node_2.rank:\n",
    "            ds_node_2.parent = ds_node_1\n",
    "        else:\n",
    "            ds_node_2.parent = ds_node_1\n",
    "            ds_node_1.rank += 1\n",
    "        return ds_node_1\n",
    "    \n",
    "    def find(self, ds_node):\n",
    "        if ds_node.parent != None:\n",
    "            self.find(ds_node.parent)\n",
    "        return ds_node\n",
    "    \n",
    "    def free(self,ds_node):\n",
    "        ds_node.rank = -1\n",
    "        ds_node.parent = None\n",
    "        ds_node.node = -1\n",
    "        "
   ]
  },
  {
   "cell_type": "code",
   "execution_count": 260,
   "metadata": {},
   "outputs": [
    {
     "name": "stdout",
     "output_type": "stream",
     "text": [
      "[None -> 35, rank = 0]\n",
      "[None -> 40, rank = 0]\n",
      "[None -> 32, rank = 0]\n"
     ]
    }
   ],
   "source": [
    "# Criação\n",
    "ds_set = DisjointSet()\n",
    "set = ds_set.make_set(35)\n",
    "set2 = ds_set.make_set(40)\n",
    "set3 = ds_set.make_set(32)\n",
    "print(set)\n",
    "print(set2)\n",
    "print(set3)"
   ]
  },
  {
   "cell_type": "code",
   "execution_count": 261,
   "metadata": {},
   "outputs": [
    {
     "name": "stdout",
     "output_type": "stream",
     "text": [
      "[[None -> 35, rank = 1] -> 40, rank = 0]\n",
      "[None -> 35, rank = 1]\n"
     ]
    }
   ],
   "source": [
    "# União entre dois conjuntos x e y\n",
    "set = ds_set.union(set, set2)\n",
    "print(set2)\n",
    "print(set)"
   ]
  },
  {
   "cell_type": "code",
   "execution_count": 262,
   "metadata": {},
   "outputs": [
    {
     "name": "stdout",
     "output_type": "stream",
     "text": [
      "[[None -> 35, rank = 1] -> 40, rank = 0]\n"
     ]
    }
   ],
   "source": [
    "# Recuperando representantedo conjunto\n",
    "rec_set = ds_set.find(set2)\n",
    "print(rec_set)"
   ]
  },
  {
   "cell_type": "code",
   "execution_count": 263,
   "metadata": {},
   "outputs": [
    {
     "name": "stdout",
     "output_type": "stream",
     "text": [
      "False\n",
      "True\n"
     ]
    }
   ],
   "source": [
    "# Verificando se dois elementos fazem parte do mesmo conjunto\n",
    "set_value = ds_set.find(set).parent\n",
    "set2_value = ds_set.find(set2).parent\n",
    "print(set_value == set2_value)\n",
    "print(set2_value == set2_value)"
   ]
  },
  {
   "cell_type": "code",
   "execution_count": 264,
   "metadata": {},
   "outputs": [
    {
     "name": "stdout",
     "output_type": "stream",
     "text": [
      "[None -> 35, rank = 1]\n",
      "[[None -> 35, rank = 1] -> 40, rank = 0]\n"
     ]
    }
   ],
   "source": [
    "# Liberando memória\n",
    "ds_set.free(set)\n",
    "ds_set.free(set2)\n",
    "print(set)\n",
    "print(set2)"
   ]
  },
  {
   "cell_type": "code",
   "execution_count": null,
   "metadata": {},
   "outputs": [],
   "source": []
  },
  {
   "cell_type": "code",
   "execution_count": null,
   "metadata": {},
   "outputs": [],
   "source": []
  }
 ],
 "metadata": {
  "kernelspec": {
   "display_name": "Python 3",
   "language": "python",
   "name": "python3"
  },
  "language_info": {
   "codemirror_mode": {
    "name": "ipython",
    "version": 3
   },
   "file_extension": ".py",
   "mimetype": "text/x-python",
   "name": "python",
   "nbconvert_exporter": "python",
   "pygments_lexer": "ipython3",
   "version": "3.7.3"
  }
 },
 "nbformat": 4,
 "nbformat_minor": 2
}
